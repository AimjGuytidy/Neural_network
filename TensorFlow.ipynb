{
  "nbformat": 4,
  "nbformat_minor": 0,
  "metadata": {
    "colab": {
      "name": "TensorFlow.ipynb",
      "provenance": [],
      "collapsed_sections": [],
      "authorship_tag": "ABX9TyNlGKylyggKfCM04IUIJ8Bg",
      "include_colab_link": true
    },
    "kernelspec": {
      "name": "python3",
      "display_name": "Python 3"
    },
    "language_info": {
      "name": "python"
    },
    "accelerator": "GPU"
  },
  "cells": [
    {
      "cell_type": "markdown",
      "metadata": {
        "id": "view-in-github",
        "colab_type": "text"
      },
      "source": [
        "<a href=\"https://colab.research.google.com/github/AimjGuytidy/Neural_network/blob/main/TensorFlow.ipynb\" target=\"_parent\"><img src=\"https://colab.research.google.com/assets/colab-badge.svg\" alt=\"Open In Colab\"/></a>"
      ]
    },
    {
      "cell_type": "markdown",
      "metadata": {
        "id": "5NzgPp9_R7I3"
      },
      "source": [
        "## Introduction to Tensorflow"
      ]
    },
    {
      "cell_type": "code",
      "metadata": {
        "colab": {
          "base_uri": "https://localhost:8080/"
        },
        "id": "Fa-JrwIgSeR7",
        "outputId": "d06fa89e-09a3-4b79-e824-eb4b2bbdc925"
      },
      "source": [
        "#import tensorflow\n",
        "import tensorflow as tf\n",
        "#check the version\n",
        "print(tf.__version__)"
      ],
      "execution_count": null,
      "outputs": [
        {
          "output_type": "stream",
          "name": "stdout",
          "text": [
            "2.6.0\n"
          ]
        }
      ]
    },
    {
      "cell_type": "markdown",
      "metadata": {
        "id": "8ypdKTb0XyDW"
      },
      "source": [
        "#### Creating tensors with `tf.constant`"
      ]
    },
    {
      "cell_type": "code",
      "metadata": {
        "id": "vUdtJVRDSXHq",
        "colab": {
          "base_uri": "https://localhost:8080/"
        },
        "outputId": "134a6e80-ffd6-45af-d5b0-185f04c2b00f"
      },
      "source": [
        "#create a scalar with tf.constant\n",
        "scalar = tf.constant(8)\n",
        "scalar"
      ],
      "execution_count": null,
      "outputs": [
        {
          "output_type": "execute_result",
          "data": {
            "text/plain": [
              "<tf.Tensor: shape=(), dtype=int32, numpy=8>"
            ]
          },
          "metadata": {},
          "execution_count": 2
        }
      ]
    },
    {
      "cell_type": "code",
      "metadata": {
        "colab": {
          "base_uri": "https://localhost:8080/"
        },
        "id": "XvK9lqhNYBUi",
        "outputId": "dcb5b0d5-207d-4e21-d205-73ad401727cd"
      },
      "source": [
        "#check the dimension of scalar\n",
        "scalar.ndim "
      ],
      "execution_count": null,
      "outputs": [
        {
          "output_type": "execute_result",
          "data": {
            "text/plain": [
              "0"
            ]
          },
          "metadata": {},
          "execution_count": 3
        }
      ]
    },
    {
      "cell_type": "code",
      "metadata": {
        "colab": {
          "base_uri": "https://localhost:8080/"
        },
        "id": "Yf7_THuNYvBp",
        "outputId": "42f6705f-8f81-417c-ed7e-b2a6ff988a3f"
      },
      "source": [
        "#create a vector with tf.constant\n",
        "vec = tf.constant([12,45,36,87])\n",
        "vec"
      ],
      "execution_count": null,
      "outputs": [
        {
          "output_type": "execute_result",
          "data": {
            "text/plain": [
              "<tf.Tensor: shape=(4,), dtype=int32, numpy=array([12, 45, 36, 87], dtype=int32)>"
            ]
          },
          "metadata": {},
          "execution_count": 4
        }
      ]
    },
    {
      "cell_type": "code",
      "metadata": {
        "colab": {
          "base_uri": "https://localhost:8080/"
        },
        "id": "3JzIOdGUY7Yt",
        "outputId": "ee034345-6553-40fb-9204-774715810fd2"
      },
      "source": [
        "#check the dim of vec\n",
        "vec.ndim"
      ],
      "execution_count": null,
      "outputs": [
        {
          "output_type": "execute_result",
          "data": {
            "text/plain": [
              "1"
            ]
          },
          "metadata": {},
          "execution_count": 5
        }
      ]
    },
    {
      "cell_type": "code",
      "metadata": {
        "id": "e52UhN7cZAe2",
        "colab": {
          "base_uri": "https://localhost:8080/"
        },
        "outputId": "dd6776b1-ff8b-44ff-86d5-b71b817e6b74"
      },
      "source": [
        "#create a matrix with tf.const\n",
        "matry = tf.constant([[1,2,3],\n",
        "                     [4,5,6],\n",
        "                     [7,8,9]]) #we created a 3 x 3 matrix\n",
        "matry"
      ],
      "execution_count": null,
      "outputs": [
        {
          "output_type": "execute_result",
          "data": {
            "text/plain": [
              "<tf.Tensor: shape=(3, 3), dtype=int32, numpy=\n",
              "array([[1, 2, 3],\n",
              "       [4, 5, 6],\n",
              "       [7, 8, 9]], dtype=int32)>"
            ]
          },
          "metadata": {},
          "execution_count": 6
        }
      ]
    },
    {
      "cell_type": "code",
      "metadata": {
        "id": "j820TtqQZDnn",
        "colab": {
          "base_uri": "https://localhost:8080/"
        },
        "outputId": "48e0b29f-9dc1-4f8c-aba2-49d82e9ba8f6"
      },
      "source": [
        "\n",
        "#check dim of matry\n",
        "matry.ndim"
      ],
      "execution_count": null,
      "outputs": [
        {
          "output_type": "execute_result",
          "data": {
            "text/plain": [
              "2"
            ]
          },
          "metadata": {},
          "execution_count": 7
        }
      ]
    },
    {
      "cell_type": "code",
      "metadata": {
        "colab": {
          "base_uri": "https://localhost:8080/"
        },
        "id": "QIOVZM3BZFMc",
        "outputId": "d9fb0127-72a3-423b-93d1-45be9a59f081"
      },
      "source": [
        "#let's create a matrix of float dtype\n",
        "matr = tf.constant([[1.,2.,3.,4.],\n",
        "                    [2.,42.,78.,46.]],dtype = tf.float16) #we used 16 instead of 32 to save memory\n",
        "matr\n"
      ],
      "execution_count": null,
      "outputs": [
        {
          "output_type": "execute_result",
          "data": {
            "text/plain": [
              "<tf.Tensor: shape=(2, 4), dtype=float16, numpy=\n",
              "array([[ 1.,  2.,  3.,  4.],\n",
              "       [ 2., 42., 78., 46.]], dtype=float16)>"
            ]
          },
          "metadata": {},
          "execution_count": 8
        }
      ]
    },
    {
      "cell_type": "code",
      "metadata": {
        "colab": {
          "base_uri": "https://localhost:8080/"
        },
        "id": "9vPhiebBaDJh",
        "outputId": "714da8c8-fd5d-4083-8a59-f130bba2b7f5"
      },
      "source": [
        "#let's check the dim of matr\n",
        "matr.ndim"
      ],
      "execution_count": null,
      "outputs": [
        {
          "output_type": "execute_result",
          "data": {
            "text/plain": [
              "2"
            ]
          },
          "metadata": {},
          "execution_count": 9
        }
      ]
    },
    {
      "cell_type": "code",
      "metadata": {
        "colab": {
          "base_uri": "https://localhost:8080/"
        },
        "id": "o5Ae7zhoaZuL",
        "outputId": "529c40c5-8d37-41cc-80d7-ebe7f6abd075"
      },
      "source": [
        "#let's create a tensor with tf.const\n",
        "tensory = tf.constant([[[1,2,3],[4,5,6]],\n",
        "                       [[2,3,4],[7,6,9]],\n",
        "                       [[5,6,9],[4,8,2]]])\n",
        "tensory\n"
      ],
      "execution_count": null,
      "outputs": [
        {
          "output_type": "execute_result",
          "data": {
            "text/plain": [
              "<tf.Tensor: shape=(3, 2, 3), dtype=int32, numpy=\n",
              "array([[[1, 2, 3],\n",
              "        [4, 5, 6]],\n",
              "\n",
              "       [[2, 3, 4],\n",
              "        [7, 6, 9]],\n",
              "\n",
              "       [[5, 6, 9],\n",
              "        [4, 8, 2]]], dtype=int32)>"
            ]
          },
          "metadata": {},
          "execution_count": 10
        }
      ]
    },
    {
      "cell_type": "code",
      "metadata": {
        "colab": {
          "base_uri": "https://localhost:8080/"
        },
        "id": "wEAMm-Saa8kH",
        "outputId": "022b5268-8b1a-40d9-c835-4837bde031eb"
      },
      "source": [
        "#check the dim of tensory\n",
        "tensory.ndim"
      ],
      "execution_count": null,
      "outputs": [
        {
          "output_type": "execute_result",
          "data": {
            "text/plain": [
              "3"
            ]
          },
          "metadata": {},
          "execution_count": 11
        }
      ]
    },
    {
      "cell_type": "markdown",
      "metadata": {
        "id": "b1BTV1-Xa_76"
      },
      "source": [
        "#### Creating tensors with `tf.Variable` and checking the difference btwn `tf.Variable` and `tf.constant`"
      ]
    },
    {
      "cell_type": "code",
      "metadata": {
        "colab": {
          "base_uri": "https://localhost:8080/"
        },
        "id": "md3IlukkeKFT",
        "outputId": "10966ec6-87b4-4a92-a626-d76f98909f7c"
      },
      "source": [
        "#creating a vector with tf.Variable\n",
        "vectori = tf.Variable([4,6,78])\n",
        "vectori"
      ],
      "execution_count": null,
      "outputs": [
        {
          "output_type": "execute_result",
          "data": {
            "text/plain": [
              "<tf.Variable 'Variable:0' shape=(3,) dtype=int32, numpy=array([ 4,  6, 78], dtype=int32)>"
            ]
          },
          "metadata": {},
          "execution_count": 12
        }
      ]
    },
    {
      "cell_type": "code",
      "metadata": {
        "colab": {
          "base_uri": "https://localhost:8080/"
        },
        "id": "_dCQrgkReKUe",
        "outputId": "ad6fab57-d1a7-4ff6-fc38-140e14bd2f36"
      },
      "source": [
        "#check the dimension of vectori\n",
        "vectori.shape"
      ],
      "execution_count": null,
      "outputs": [
        {
          "output_type": "execute_result",
          "data": {
            "text/plain": [
              "TensorShape([3])"
            ]
          },
          "metadata": {},
          "execution_count": 13
        }
      ]
    },
    {
      "cell_type": "code",
      "metadata": {
        "colab": {
          "base_uri": "https://localhost:8080/"
        },
        "id": "k20IJolPeKh7",
        "outputId": "7603eccd-24b6-446f-f28c-21340b7f0bfb"
      },
      "source": [
        "# trying to assign new values to our vector elements we created with tf.const vs tf.Var\n",
        "\n",
        "#vec[1].assign() #doesn't work for tf.constant elements\n",
        "vectori[2].assign(12)"
      ],
      "execution_count": null,
      "outputs": [
        {
          "output_type": "execute_result",
          "data": {
            "text/plain": [
              "<tf.Variable 'UnreadVariable' shape=(3,) dtype=int32, numpy=array([ 4,  6, 12], dtype=int32)>"
            ]
          },
          "metadata": {},
          "execution_count": 14
        }
      ]
    },
    {
      "cell_type": "markdown",
      "metadata": {
        "id": "I7hp9rGgfd0v"
      },
      "source": [
        "the main difference between tf.constant and tf.Variable is that we can change the values of the elements in tf.Variable variables while we can't do the same for tf.constant"
      ]
    },
    {
      "cell_type": "markdown",
      "metadata": {
        "id": "2n1DzzkLgDDL"
      },
      "source": [
        "#### Creating random tensors"
      ]
    },
    {
      "cell_type": "code",
      "metadata": {
        "colab": {
          "base_uri": "https://localhost:8080/"
        },
        "id": "DEWpjRIigD4V",
        "outputId": "b8f9f8de-5582-4850-df9d-89a3cfd36550"
      },
      "source": [
        "#first we create an object\n",
        "randomy = tf.random.Generator.from_seed(42)\n",
        "#we create our first random tensor\n",
        "rando1 = randomy.normal(shape=(3,2))\n",
        "rando1"
      ],
      "execution_count": null,
      "outputs": [
        {
          "output_type": "execute_result",
          "data": {
            "text/plain": [
              "<tf.Tensor: shape=(3, 2), dtype=float32, numpy=\n",
              "array([[-0.7565803 , -0.06854702],\n",
              "       [ 0.07595026, -1.2573844 ],\n",
              "       [-0.23193765, -1.8107855 ]], dtype=float32)>"
            ]
          },
          "metadata": {},
          "execution_count": 15
        }
      ]
    },
    {
      "cell_type": "code",
      "metadata": {
        "colab": {
          "base_uri": "https://localhost:8080/"
        },
        "id": "-qXEd6v3gEOF",
        "outputId": "47fd41f8-223e-4b5d-b99b-946dd3c82ff3"
      },
      "source": [
        "#let's check if the seed method works\n",
        "rando2 = randomy.normal(shape=(3,2))\n",
        "rando1,rando2,rando1 == rando2"
      ],
      "execution_count": null,
      "outputs": [
        {
          "output_type": "execute_result",
          "data": {
            "text/plain": [
              "(<tf.Tensor: shape=(3, 2), dtype=float32, numpy=\n",
              " array([[-0.7565803 , -0.06854702],\n",
              "        [ 0.07595026, -1.2573844 ],\n",
              "        [-0.23193765, -1.8107855 ]], dtype=float32)>,\n",
              " <tf.Tensor: shape=(3, 2), dtype=float32, numpy=\n",
              " array([[ 0.17522676,  0.71105534],\n",
              "        [ 0.54882437,  0.14896016],\n",
              "        [-0.54757965,  0.61634356]], dtype=float32)>,\n",
              " <tf.Tensor: shape=(3, 2), dtype=bool, numpy=\n",
              " array([[False, False],\n",
              "        [False, False],\n",
              "        [False, False]])>)"
            ]
          },
          "metadata": {},
          "execution_count": 16
        }
      ]
    },
    {
      "cell_type": "code",
      "metadata": {
        "colab": {
          "base_uri": "https://localhost:8080/"
        },
        "id": "3p50iFBjgEhE",
        "outputId": "44316309-aa6a-4045-90ee-0d95e06961c9"
      },
      "source": [
        "#let's check if the seed method works\n",
        "randoma = tf.random.Generator.from_seed(42)\n",
        "rando2 = randoma.normal(shape=(3,2))\n",
        "rando1,rando2,rando1 == rando2"
      ],
      "execution_count": null,
      "outputs": [
        {
          "output_type": "execute_result",
          "data": {
            "text/plain": [
              "(<tf.Tensor: shape=(3, 2), dtype=float32, numpy=\n",
              " array([[-0.7565803 , -0.06854702],\n",
              "        [ 0.07595026, -1.2573844 ],\n",
              "        [-0.23193765, -1.8107855 ]], dtype=float32)>,\n",
              " <tf.Tensor: shape=(3, 2), dtype=float32, numpy=\n",
              " array([[-0.7565803 , -0.06854702],\n",
              "        [ 0.07595026, -1.2573844 ],\n",
              "        [-0.23193765, -1.8107855 ]], dtype=float32)>,\n",
              " <tf.Tensor: shape=(3, 2), dtype=bool, numpy=\n",
              " array([[ True,  True],\n",
              "        [ True,  True],\n",
              "        [ True,  True]])>)"
            ]
          },
          "metadata": {},
          "execution_count": 17
        }
      ]
    },
    {
      "cell_type": "markdown",
      "metadata": {
        "id": "SnSdJOoMgFB_"
      },
      "source": [
        "#### Shuffling our tensors"
      ]
    },
    {
      "cell_type": "code",
      "metadata": {
        "colab": {
          "base_uri": "https://localhost:8080/"
        },
        "id": "bjQRJzNYgFQU",
        "outputId": "bec401b0-e3da-4e4e-b9fd-7a4ec5d911a0"
      },
      "source": [
        "rando = tf.random.Generator.from_seed(42)\n",
        "shuffler1 = tf.constant([[1,3],\n",
        "                         [4,8],\n",
        "                         [8,7],\n",
        "                         [5,6]])\n",
        "shuffler2 = rando.uniform(shape = (4,2),minval=4,maxval=19,dtype=tf.int32)\n",
        "shuffler1,shuffler2 "
      ],
      "execution_count": null,
      "outputs": [
        {
          "output_type": "execute_result",
          "data": {
            "text/plain": [
              "(<tf.Tensor: shape=(4, 2), dtype=int32, numpy=\n",
              " array([[1, 3],\n",
              "        [4, 8],\n",
              "        [8, 7],\n",
              "        [5, 6]], dtype=int32)>, <tf.Tensor: shape=(4, 2), dtype=int32, numpy=\n",
              " array([[ 7, 16],\n",
              "        [10,  7],\n",
              "        [10, 10],\n",
              "        [ 5, 16]], dtype=int32)>)"
            ]
          },
          "metadata": {},
          "execution_count": 18
        }
      ]
    },
    {
      "cell_type": "code",
      "metadata": {
        "colab": {
          "base_uri": "https://localhost:8080/"
        },
        "id": "XES6EieZuf30",
        "outputId": "e26c2826-62f8-4fad-c52f-66ee920df59a"
      },
      "source": [
        "tf.random.set_seed(42)\n",
        "testy = tf.random.uniform(shape=(2,2),seed=42)\n",
        "testy"
      ],
      "execution_count": null,
      "outputs": [
        {
          "output_type": "execute_result",
          "data": {
            "text/plain": [
              "<tf.Tensor: shape=(2, 2), dtype=float32, numpy=\n",
              "array([[0.4163028 , 0.26858163],\n",
              "       [0.47968316, 0.36457133]], dtype=float32)>"
            ]
          },
          "metadata": {},
          "execution_count": 19
        }
      ]
    },
    {
      "cell_type": "code",
      "metadata": {
        "colab": {
          "base_uri": "https://localhost:8080/"
        },
        "id": "iOhH_UBmgFf5",
        "outputId": "2135fc2c-a22a-4fac-faba-03c73593f5a5"
      },
      "source": [
        "#shuffle our variables\n",
        "#we set a global seed\n",
        "tf.random.set_seed(42)\n",
        "shufd1 = tf.random.shuffle(shuffler1, seed=42)\n",
        "shufd2 = tf.random.shuffle(shuffler2, seed=42)\n",
        "shufd1,shufd2"
      ],
      "execution_count": null,
      "outputs": [
        {
          "output_type": "execute_result",
          "data": {
            "text/plain": [
              "(<tf.Tensor: shape=(4, 2), dtype=int32, numpy=\n",
              " array([[4, 8],\n",
              "        [8, 7],\n",
              "        [1, 3],\n",
              "        [5, 6]], dtype=int32)>, <tf.Tensor: shape=(4, 2), dtype=int32, numpy=\n",
              " array([[ 7, 16],\n",
              "        [10, 10],\n",
              "        [ 5, 16],\n",
              "        [10,  7]], dtype=int32)>)"
            ]
          },
          "metadata": {},
          "execution_count": 20
        }
      ]
    },
    {
      "cell_type": "markdown",
      "metadata": {
        "id": "5NPza0GEgF9z"
      },
      "source": [
        "### other ways to create tensors"
      ]
    },
    {
      "cell_type": "code",
      "metadata": {
        "colab": {
          "base_uri": "https://localhost:8080/"
        },
        "id": "YM713uN6gGJi",
        "outputId": "bfe0db83-b797-4bff-ce2d-14c75e052cb2"
      },
      "source": [
        "#using ones\n",
        "ony = tf.ones(shape=(3,3))\n",
        "ony\n"
      ],
      "execution_count": null,
      "outputs": [
        {
          "output_type": "execute_result",
          "data": {
            "text/plain": [
              "<tf.Tensor: shape=(3, 3), dtype=float32, numpy=\n",
              "array([[1., 1., 1.],\n",
              "       [1., 1., 1.],\n",
              "       [1., 1., 1.]], dtype=float32)>"
            ]
          },
          "metadata": {},
          "execution_count": 21
        }
      ]
    },
    {
      "cell_type": "code",
      "metadata": {
        "colab": {
          "base_uri": "https://localhost:8080/"
        },
        "id": "c0Buj50OgGUz",
        "outputId": "1af999fd-5dee-4527-f99a-2b31f0df9ca3"
      },
      "source": [
        "#using zeros\n",
        "zery = tf.zeros([3,3])\n",
        "zery"
      ],
      "execution_count": null,
      "outputs": [
        {
          "output_type": "execute_result",
          "data": {
            "text/plain": [
              "<tf.Tensor: shape=(3, 3), dtype=float32, numpy=\n",
              "array([[0., 0., 0.],\n",
              "       [0., 0., 0.],\n",
              "       [0., 0., 0.]], dtype=float32)>"
            ]
          },
          "metadata": {},
          "execution_count": 22
        }
      ]
    },
    {
      "cell_type": "code",
      "metadata": {
        "colab": {
          "base_uri": "https://localhost:8080/"
        },
        "id": "foVll5jS6YVb",
        "outputId": "b0fa29b2-6058-48cf-ba3f-11515694b4f1"
      },
      "source": [
        "\n",
        "#create identity matrix\n",
        "idy = tf.eye(3)\n",
        "idy"
      ],
      "execution_count": null,
      "outputs": [
        {
          "output_type": "execute_result",
          "data": {
            "text/plain": [
              "<tf.Tensor: shape=(3, 3), dtype=float32, numpy=\n",
              "array([[1., 0., 0.],\n",
              "       [0., 1., 0.],\n",
              "       [0., 0., 1.]], dtype=float32)>"
            ]
          },
          "metadata": {},
          "execution_count": 23
        }
      ]
    },
    {
      "cell_type": "markdown",
      "metadata": {
        "id": "cg7aKci06Yo4"
      },
      "source": [
        "#### turning numpy arrays to tensors\n"
      ]
    },
    {
      "cell_type": "code",
      "metadata": {
        "colab": {
          "base_uri": "https://localhost:8080/"
        },
        "id": "iWzcjX1R6Y0w",
        "outputId": "f7e3cf25-ea3b-4a23-8ec3-07725a6cabc7"
      },
      "source": [
        "#import numpy\n",
        "import numpy as np\n",
        "np_A = np.arange(1,13,dtype=np.int32)\n",
        "A = tf.constant(np_A)\n",
        "B = tf.constant(np_A,shape=(3,4))\n",
        "B1 = tf.constant(np_A,shape=(2,6))\n",
        "B2 = tf.constant(np_A,shape=(6,2))\n",
        "C = tf.Variable(np_A)\n",
        "np_A, A, B, C,B1,B2"
      ],
      "execution_count": null,
      "outputs": [
        {
          "output_type": "execute_result",
          "data": {
            "text/plain": [
              "(array([ 1,  2,  3,  4,  5,  6,  7,  8,  9, 10, 11, 12], dtype=int32),\n",
              " <tf.Tensor: shape=(12,), dtype=int32, numpy=array([ 1,  2,  3,  4,  5,  6,  7,  8,  9, 10, 11, 12], dtype=int32)>,\n",
              " <tf.Tensor: shape=(3, 4), dtype=int32, numpy=\n",
              " array([[ 1,  2,  3,  4],\n",
              "        [ 5,  6,  7,  8],\n",
              "        [ 9, 10, 11, 12]], dtype=int32)>,\n",
              " <tf.Variable 'Variable:0' shape=(12,) dtype=int32, numpy=array([ 1,  2,  3,  4,  5,  6,  7,  8,  9, 10, 11, 12], dtype=int32)>,\n",
              " <tf.Tensor: shape=(2, 6), dtype=int32, numpy=\n",
              " array([[ 1,  2,  3,  4,  5,  6],\n",
              "        [ 7,  8,  9, 10, 11, 12]], dtype=int32)>,\n",
              " <tf.Tensor: shape=(6, 2), dtype=int32, numpy=\n",
              " array([[ 1,  2],\n",
              "        [ 3,  4],\n",
              "        [ 5,  6],\n",
              "        [ 7,  8],\n",
              "        [ 9, 10],\n",
              "        [11, 12]], dtype=int32)>)"
            ]
          },
          "metadata": {},
          "execution_count": 24
        }
      ]
    },
    {
      "cell_type": "markdown",
      "metadata": {
        "id": "AB4pYjpW9I_f"
      },
      "source": [
        "The difference between `numpy` and `tensorflow` is that tensors can run on **GPU** which can make them faster "
      ]
    },
    {
      "cell_type": "markdown",
      "metadata": {
        "id": "7kzPs_Kx8fFr"
      },
      "source": [
        "#### Getting info from tensors"
      ]
    },
    {
      "cell_type": "code",
      "metadata": {
        "colab": {
          "base_uri": "https://localhost:8080/"
        },
        "id": "goJ1BQWY6ZBb",
        "outputId": "aadeb8b8-6204-4ee0-e44c-0cd543fc2d43"
      },
      "source": [
        "#create an only ones tensor of n dimensional\n",
        "maty = tf.ones([3,3,4])\n",
        "maty"
      ],
      "execution_count": null,
      "outputs": [
        {
          "output_type": "execute_result",
          "data": {
            "text/plain": [
              "<tf.Tensor: shape=(3, 3, 4), dtype=float32, numpy=\n",
              "array([[[1., 1., 1., 1.],\n",
              "        [1., 1., 1., 1.],\n",
              "        [1., 1., 1., 1.]],\n",
              "\n",
              "       [[1., 1., 1., 1.],\n",
              "        [1., 1., 1., 1.],\n",
              "        [1., 1., 1., 1.]],\n",
              "\n",
              "       [[1., 1., 1., 1.],\n",
              "        [1., 1., 1., 1.],\n",
              "        [1., 1., 1., 1.]]], dtype=float32)>"
            ]
          },
          "metadata": {},
          "execution_count": 25
        }
      ]
    },
    {
      "cell_type": "code",
      "metadata": {
        "id": "8jb6Kuwb8ZeA",
        "colab": {
          "base_uri": "https://localhost:8080/"
        },
        "outputId": "3551546e-cdd3-4bb7-821b-5bd08b6bebf6"
      },
      "source": [
        "#let's print all info we can get\n",
        "print(\"size of maty:\",tf.size(maty))\n",
        "print(\"size of maty:\",tf.size(maty).numpy())\n",
        "print(\"shape of maty:\",maty.shape)\n",
        "print(\"dimension of maty:\",maty.ndim)\n",
        "print(\"elements along axis 0 of maty:\",maty.shape[0])\n",
        "print(\"elements along the last axis of maty:\",maty.shape[-1])\n",
        "print(\"datatype of maty:\",maty.dtype)"
      ],
      "execution_count": null,
      "outputs": [
        {
          "output_type": "stream",
          "name": "stdout",
          "text": [
            "size of maty: tf.Tensor(36, shape=(), dtype=int32)\n",
            "size of maty: 36\n",
            "shape of maty: (3, 3, 4)\n",
            "dimension of maty: 3\n",
            "elements along axis 0 of maty: 3\n",
            "elements along the last axis of maty: 4\n",
            "datatype of maty: <dtype: 'float32'>\n"
          ]
        }
      ]
    },
    {
      "cell_type": "markdown",
      "metadata": {
        "id": "FEWmLsg58bDh"
      },
      "source": [
        "#### Tensor indexing"
      ]
    },
    {
      "cell_type": "code",
      "metadata": {
        "id": "i6jrUOjI6ZL_",
        "colab": {
          "base_uri": "https://localhost:8080/"
        },
        "outputId": "058af797-d7ac-4f10-8b3a-edb9eb9d8fcc"
      },
      "source": [
        "#get first two elements of each dim of maty\n",
        "maty[:2,:2,:2]"
      ],
      "execution_count": null,
      "outputs": [
        {
          "output_type": "execute_result",
          "data": {
            "text/plain": [
              "<tf.Tensor: shape=(2, 2, 2), dtype=float32, numpy=\n",
              "array([[[1., 1.],\n",
              "        [1., 1.]],\n",
              "\n",
              "       [[1., 1.],\n",
              "        [1., 1.]]], dtype=float32)>"
            ]
          },
          "metadata": {},
          "execution_count": 27
        }
      ]
    },
    {
      "cell_type": "code",
      "metadata": {
        "colab": {
          "base_uri": "https://localhost:8080/"
        },
        "id": "8JGnlWZvGdFl",
        "outputId": "3a48c588-4e25-430e-90ae-62f8cb15ea7a"
      },
      "source": [
        "#create a rank 4 tensor\n",
        "ra4 = tf.ones([3,3,4,4])\n",
        "ra4,ra4.ndim,ra4.shape"
      ],
      "execution_count": null,
      "outputs": [
        {
          "output_type": "execute_result",
          "data": {
            "text/plain": [
              "(<tf.Tensor: shape=(3, 3, 4, 4), dtype=float32, numpy=\n",
              " array([[[[1., 1., 1., 1.],\n",
              "          [1., 1., 1., 1.],\n",
              "          [1., 1., 1., 1.],\n",
              "          [1., 1., 1., 1.]],\n",
              " \n",
              "         [[1., 1., 1., 1.],\n",
              "          [1., 1., 1., 1.],\n",
              "          [1., 1., 1., 1.],\n",
              "          [1., 1., 1., 1.]],\n",
              " \n",
              "         [[1., 1., 1., 1.],\n",
              "          [1., 1., 1., 1.],\n",
              "          [1., 1., 1., 1.],\n",
              "          [1., 1., 1., 1.]]],\n",
              " \n",
              " \n",
              "        [[[1., 1., 1., 1.],\n",
              "          [1., 1., 1., 1.],\n",
              "          [1., 1., 1., 1.],\n",
              "          [1., 1., 1., 1.]],\n",
              " \n",
              "         [[1., 1., 1., 1.],\n",
              "          [1., 1., 1., 1.],\n",
              "          [1., 1., 1., 1.],\n",
              "          [1., 1., 1., 1.]],\n",
              " \n",
              "         [[1., 1., 1., 1.],\n",
              "          [1., 1., 1., 1.],\n",
              "          [1., 1., 1., 1.],\n",
              "          [1., 1., 1., 1.]]],\n",
              " \n",
              " \n",
              "        [[[1., 1., 1., 1.],\n",
              "          [1., 1., 1., 1.],\n",
              "          [1., 1., 1., 1.],\n",
              "          [1., 1., 1., 1.]],\n",
              " \n",
              "         [[1., 1., 1., 1.],\n",
              "          [1., 1., 1., 1.],\n",
              "          [1., 1., 1., 1.],\n",
              "          [1., 1., 1., 1.]],\n",
              " \n",
              "         [[1., 1., 1., 1.],\n",
              "          [1., 1., 1., 1.],\n",
              "          [1., 1., 1., 1.],\n",
              "          [1., 1., 1., 1.]]]], dtype=float32)>, 4, TensorShape([3, 3, 4, 4]))"
            ]
          },
          "metadata": {},
          "execution_count": 28
        }
      ]
    },
    {
      "cell_type": "code",
      "metadata": {
        "colab": {
          "base_uri": "https://localhost:8080/"
        },
        "id": "EB0-HU07GdWU",
        "outputId": "343efb01-909d-42c5-80c7-11d4592d2497"
      },
      "source": [
        "#let's print all info we can get\n",
        "print(\"size of ra4:\",tf.size(ra4))\n",
        "print(\"size of ra4:\",tf.size(ra4).numpy())\n",
        "print(\"shape of ra4:\",ra4.shape)\n",
        "print(\"dimension of ra4:\",ra4.ndim)\n",
        "print(\"elements along axis 0 of ra4:\",ra4.shape[0])\n",
        "print(\"elements along the last axis of ra4:\",ra4.shape[-1])\n",
        "print(\"datatype of ra4:\",ra4.dtype)"
      ],
      "execution_count": null,
      "outputs": [
        {
          "output_type": "stream",
          "name": "stdout",
          "text": [
            "size of ra4: tf.Tensor(144, shape=(), dtype=int32)\n",
            "size of ra4: 144\n",
            "shape of ra4: (3, 3, 4, 4)\n",
            "dimension of ra4: 4\n",
            "elements along axis 0 of ra4: 3\n",
            "elements along the last axis of ra4: 4\n",
            "datatype of ra4: <dtype: 'float32'>\n"
          ]
        }
      ]
    },
    {
      "cell_type": "code",
      "metadata": {
        "colab": {
          "base_uri": "https://localhost:8080/"
        },
        "id": "7Sp6FT7dGdid",
        "outputId": "23ee93e8-2c5f-4c2c-e59c-db68dcb41121"
      },
      "source": [
        "#indexing tensors is like indexing in python\n",
        "ra4[:,:2,:2,:-1]"
      ],
      "execution_count": null,
      "outputs": [
        {
          "output_type": "execute_result",
          "data": {
            "text/plain": [
              "<tf.Tensor: shape=(3, 2, 2, 3), dtype=float32, numpy=\n",
              "array([[[[1., 1., 1.],\n",
              "         [1., 1., 1.]],\n",
              "\n",
              "        [[1., 1., 1.],\n",
              "         [1., 1., 1.]]],\n",
              "\n",
              "\n",
              "       [[[1., 1., 1.],\n",
              "         [1., 1., 1.]],\n",
              "\n",
              "        [[1., 1., 1.],\n",
              "         [1., 1., 1.]]],\n",
              "\n",
              "\n",
              "       [[[1., 1., 1.],\n",
              "         [1., 1., 1.]],\n",
              "\n",
              "        [[1., 1., 1.],\n",
              "         [1., 1., 1.]]]], dtype=float32)>"
            ]
          },
          "metadata": {},
          "execution_count": 30
        }
      ]
    },
    {
      "cell_type": "code",
      "metadata": {
        "colab": {
          "base_uri": "https://localhost:8080/"
        },
        "id": "dKRcoTX9GduJ",
        "outputId": "65b6c9f1-f97f-4da8-b8b8-c22f5d6d8f15"
      },
      "source": [
        "#get the first element from each index except the last one\n",
        "ra4[0,0,0,:]"
      ],
      "execution_count": null,
      "outputs": [
        {
          "output_type": "execute_result",
          "data": {
            "text/plain": [
              "<tf.Tensor: shape=(4,), dtype=float32, numpy=array([1., 1., 1., 1.], dtype=float32)>"
            ]
          },
          "metadata": {},
          "execution_count": 31
        }
      ]
    },
    {
      "cell_type": "code",
      "metadata": {
        "colab": {
          "base_uri": "https://localhost:8080/"
        },
        "id": "8JRF2DrYGegy",
        "outputId": "110d8be9-97cf-4302-9348-d67d2a3b2fb2"
      },
      "source": [
        "ra4[0]"
      ],
      "execution_count": null,
      "outputs": [
        {
          "output_type": "execute_result",
          "data": {
            "text/plain": [
              "<tf.Tensor: shape=(3, 4, 4), dtype=float32, numpy=\n",
              "array([[[1., 1., 1., 1.],\n",
              "        [1., 1., 1., 1.],\n",
              "        [1., 1., 1., 1.],\n",
              "        [1., 1., 1., 1.]],\n",
              "\n",
              "       [[1., 1., 1., 1.],\n",
              "        [1., 1., 1., 1.],\n",
              "        [1., 1., 1., 1.],\n",
              "        [1., 1., 1., 1.]],\n",
              "\n",
              "       [[1., 1., 1., 1.],\n",
              "        [1., 1., 1., 1.],\n",
              "        [1., 1., 1., 1.],\n",
              "        [1., 1., 1., 1.]]], dtype=float32)>"
            ]
          },
          "metadata": {},
          "execution_count": 32
        }
      ]
    },
    {
      "cell_type": "code",
      "metadata": {
        "colab": {
          "base_uri": "https://localhost:8080/"
        },
        "id": "cH3IULoMGew7",
        "outputId": "b3ef2439-f869-42ec-c81a-d47e9211d6f5"
      },
      "source": [
        "ra4[:][2]"
      ],
      "execution_count": null,
      "outputs": [
        {
          "output_type": "execute_result",
          "data": {
            "text/plain": [
              "<tf.Tensor: shape=(3, 4, 4), dtype=float32, numpy=\n",
              "array([[[1., 1., 1., 1.],\n",
              "        [1., 1., 1., 1.],\n",
              "        [1., 1., 1., 1.],\n",
              "        [1., 1., 1., 1.]],\n",
              "\n",
              "       [[1., 1., 1., 1.],\n",
              "        [1., 1., 1., 1.],\n",
              "        [1., 1., 1., 1.],\n",
              "        [1., 1., 1., 1.]],\n",
              "\n",
              "       [[1., 1., 1., 1.],\n",
              "        [1., 1., 1., 1.],\n",
              "        [1., 1., 1., 1.],\n",
              "        [1., 1., 1., 1.]]], dtype=float32)>"
            ]
          },
          "metadata": {},
          "execution_count": 33
        }
      ]
    },
    {
      "cell_type": "code",
      "metadata": {
        "colab": {
          "base_uri": "https://localhost:8080/"
        },
        "id": "_zksqgERhCSi",
        "outputId": "44008533-b55f-4327-93ab-8be76027bdb5"
      },
      "source": [
        "ra4,ra4[:][2][1]"
      ],
      "execution_count": null,
      "outputs": [
        {
          "output_type": "execute_result",
          "data": {
            "text/plain": [
              "(<tf.Tensor: shape=(3, 3, 4, 4), dtype=float32, numpy=\n",
              " array([[[[1., 1., 1., 1.],\n",
              "          [1., 1., 1., 1.],\n",
              "          [1., 1., 1., 1.],\n",
              "          [1., 1., 1., 1.]],\n",
              " \n",
              "         [[1., 1., 1., 1.],\n",
              "          [1., 1., 1., 1.],\n",
              "          [1., 1., 1., 1.],\n",
              "          [1., 1., 1., 1.]],\n",
              " \n",
              "         [[1., 1., 1., 1.],\n",
              "          [1., 1., 1., 1.],\n",
              "          [1., 1., 1., 1.],\n",
              "          [1., 1., 1., 1.]]],\n",
              " \n",
              " \n",
              "        [[[1., 1., 1., 1.],\n",
              "          [1., 1., 1., 1.],\n",
              "          [1., 1., 1., 1.],\n",
              "          [1., 1., 1., 1.]],\n",
              " \n",
              "         [[1., 1., 1., 1.],\n",
              "          [1., 1., 1., 1.],\n",
              "          [1., 1., 1., 1.],\n",
              "          [1., 1., 1., 1.]],\n",
              " \n",
              "         [[1., 1., 1., 1.],\n",
              "          [1., 1., 1., 1.],\n",
              "          [1., 1., 1., 1.],\n",
              "          [1., 1., 1., 1.]]],\n",
              " \n",
              " \n",
              "        [[[1., 1., 1., 1.],\n",
              "          [1., 1., 1., 1.],\n",
              "          [1., 1., 1., 1.],\n",
              "          [1., 1., 1., 1.]],\n",
              " \n",
              "         [[1., 1., 1., 1.],\n",
              "          [1., 1., 1., 1.],\n",
              "          [1., 1., 1., 1.],\n",
              "          [1., 1., 1., 1.]],\n",
              " \n",
              "         [[1., 1., 1., 1.],\n",
              "          [1., 1., 1., 1.],\n",
              "          [1., 1., 1., 1.],\n",
              "          [1., 1., 1., 1.]]]], dtype=float32)>,\n",
              " <tf.Tensor: shape=(4, 4), dtype=float32, numpy=\n",
              " array([[1., 1., 1., 1.],\n",
              "        [1., 1., 1., 1.],\n",
              "        [1., 1., 1., 1.],\n",
              "        [1., 1., 1., 1.]], dtype=float32)>)"
            ]
          },
          "metadata": {},
          "execution_count": 34
        }
      ]
    },
    {
      "cell_type": "code",
      "metadata": {
        "colab": {
          "base_uri": "https://localhost:8080/"
        },
        "id": "AgL6Yil9hJKt",
        "outputId": "e70686e8-548b-40f3-9710-10c28adf74e3"
      },
      "source": [
        "ra4,ra4[:][2][1][1]"
      ],
      "execution_count": null,
      "outputs": [
        {
          "output_type": "execute_result",
          "data": {
            "text/plain": [
              "(<tf.Tensor: shape=(3, 3, 4, 4), dtype=float32, numpy=\n",
              " array([[[[1., 1., 1., 1.],\n",
              "          [1., 1., 1., 1.],\n",
              "          [1., 1., 1., 1.],\n",
              "          [1., 1., 1., 1.]],\n",
              " \n",
              "         [[1., 1., 1., 1.],\n",
              "          [1., 1., 1., 1.],\n",
              "          [1., 1., 1., 1.],\n",
              "          [1., 1., 1., 1.]],\n",
              " \n",
              "         [[1., 1., 1., 1.],\n",
              "          [1., 1., 1., 1.],\n",
              "          [1., 1., 1., 1.],\n",
              "          [1., 1., 1., 1.]]],\n",
              " \n",
              " \n",
              "        [[[1., 1., 1., 1.],\n",
              "          [1., 1., 1., 1.],\n",
              "          [1., 1., 1., 1.],\n",
              "          [1., 1., 1., 1.]],\n",
              " \n",
              "         [[1., 1., 1., 1.],\n",
              "          [1., 1., 1., 1.],\n",
              "          [1., 1., 1., 1.],\n",
              "          [1., 1., 1., 1.]],\n",
              " \n",
              "         [[1., 1., 1., 1.],\n",
              "          [1., 1., 1., 1.],\n",
              "          [1., 1., 1., 1.],\n",
              "          [1., 1., 1., 1.]]],\n",
              " \n",
              " \n",
              "        [[[1., 1., 1., 1.],\n",
              "          [1., 1., 1., 1.],\n",
              "          [1., 1., 1., 1.],\n",
              "          [1., 1., 1., 1.]],\n",
              " \n",
              "         [[1., 1., 1., 1.],\n",
              "          [1., 1., 1., 1.],\n",
              "          [1., 1., 1., 1.],\n",
              "          [1., 1., 1., 1.]],\n",
              " \n",
              "         [[1., 1., 1., 1.],\n",
              "          [1., 1., 1., 1.],\n",
              "          [1., 1., 1., 1.],\n",
              "          [1., 1., 1., 1.]]]], dtype=float32)>,\n",
              " <tf.Tensor: shape=(4,), dtype=float32, numpy=array([1., 1., 1., 1.], dtype=float32)>)"
            ]
          },
          "metadata": {},
          "execution_count": 35
        }
      ]
    },
    {
      "cell_type": "code",
      "metadata": {
        "colab": {
          "base_uri": "https://localhost:8080/"
        },
        "id": "u-6KTHpPhmAC",
        "outputId": "52707330-859c-46e0-9f75-da52e864e1c7"
      },
      "source": [
        "idy,idy.shape,idy.ndim"
      ],
      "execution_count": null,
      "outputs": [
        {
          "output_type": "execute_result",
          "data": {
            "text/plain": [
              "(<tf.Tensor: shape=(3, 3), dtype=float32, numpy=\n",
              " array([[1., 0., 0.],\n",
              "        [0., 1., 0.],\n",
              "        [0., 0., 1.]], dtype=float32)>, TensorShape([3, 3]), 2)"
            ]
          },
          "metadata": {},
          "execution_count": 36
        }
      ]
    },
    {
      "cell_type": "code",
      "metadata": {
        "colab": {
          "base_uri": "https://localhost:8080/"
        },
        "id": "8CnHz4BwhvO7",
        "outputId": "c698ca89-85bc-4810-b083-b52020c6095d"
      },
      "source": [
        "#get the last item of each row\n",
        "idy[:,-1]"
      ],
      "execution_count": null,
      "outputs": [
        {
          "output_type": "execute_result",
          "data": {
            "text/plain": [
              "<tf.Tensor: shape=(3,), dtype=float32, numpy=array([0., 0., 1.], dtype=float32)>"
            ]
          },
          "metadata": {},
          "execution_count": 37
        }
      ]
    },
    {
      "cell_type": "code",
      "metadata": {
        "colab": {
          "base_uri": "https://localhost:8080/"
        },
        "id": "ypL3AUHChvh3",
        "outputId": "1c62d810-2389-465b-b2b7-6bbaed023d9c"
      },
      "source": [
        "#add in extra dimension\n",
        "idy3 = tf.reshape(idy,[3,1,3])\n",
        "idy3,idy3.shape,idy3.ndim"
      ],
      "execution_count": null,
      "outputs": [
        {
          "output_type": "execute_result",
          "data": {
            "text/plain": [
              "(<tf.Tensor: shape=(3, 1, 3), dtype=float32, numpy=\n",
              " array([[[1., 0., 0.]],\n",
              " \n",
              "        [[0., 1., 0.]],\n",
              " \n",
              "        [[0., 0., 1.]]], dtype=float32)>, TensorShape([3, 1, 3]), 3)"
            ]
          },
          "metadata": {},
          "execution_count": 38
        }
      ]
    },
    {
      "cell_type": "code",
      "metadata": {
        "colab": {
          "base_uri": "https://localhost:8080/"
        },
        "id": "KYKL9Lsfhvw8",
        "outputId": "2213a78d-09d9-45cf-f955-18596cf6f995"
      },
      "source": [
        "idy31 = tf.reshape(idy,[3,3,1])\n",
        "idy31,idy31.shape,idy31.ndim"
      ],
      "execution_count": null,
      "outputs": [
        {
          "output_type": "execute_result",
          "data": {
            "text/plain": [
              "(<tf.Tensor: shape=(3, 3, 1), dtype=float32, numpy=\n",
              " array([[[1.],\n",
              "         [0.],\n",
              "         [0.]],\n",
              " \n",
              "        [[0.],\n",
              "         [1.],\n",
              "         [0.]],\n",
              " \n",
              "        [[0.],\n",
              "         [0.],\n",
              "         [1.]]], dtype=float32)>, TensorShape([3, 3, 1]), 3)"
            ]
          },
          "metadata": {},
          "execution_count": 39
        }
      ]
    },
    {
      "cell_type": "code",
      "metadata": {
        "colab": {
          "base_uri": "https://localhost:8080/"
        },
        "id": "YUQ7hCsbhwAk",
        "outputId": "aa496b44-8ac9-4f01-b9b2-2b543c4e41e7"
      },
      "source": [
        "#other ways than tf.reshape\n",
        "#using tf.newaxis\n",
        "idy32 = idy[...,tf.newaxis]\n",
        "idy32,idy32.shape,idy32.ndim"
      ],
      "execution_count": null,
      "outputs": [
        {
          "output_type": "execute_result",
          "data": {
            "text/plain": [
              "(<tf.Tensor: shape=(3, 3, 1), dtype=float32, numpy=\n",
              " array([[[1.],\n",
              "         [0.],\n",
              "         [0.]],\n",
              " \n",
              "        [[0.],\n",
              "         [1.],\n",
              "         [0.]],\n",
              " \n",
              "        [[0.],\n",
              "         [0.],\n",
              "         [1.]]], dtype=float32)>, TensorShape([3, 3, 1]), 3)"
            ]
          },
          "metadata": {},
          "execution_count": 40
        }
      ]
    },
    {
      "cell_type": "code",
      "metadata": {
        "colab": {
          "base_uri": "https://localhost:8080/"
        },
        "id": "xGogj-iZhwSb",
        "outputId": "4f79edb7-013c-41e3-cb33-54c8c02e56aa"
      },
      "source": [
        "#other ways than tf.reshape\n",
        "#using tf.expand_dims\n",
        "idy33 = tf.expand_dims(idy, axis=-1)\n",
        "idy33,idy33.shape,idy33.ndim"
      ],
      "execution_count": null,
      "outputs": [
        {
          "output_type": "execute_result",
          "data": {
            "text/plain": [
              "(<tf.Tensor: shape=(3, 3, 1), dtype=float32, numpy=\n",
              " array([[[1.],\n",
              "         [0.],\n",
              "         [0.]],\n",
              " \n",
              "        [[0.],\n",
              "         [1.],\n",
              "         [0.]],\n",
              " \n",
              "        [[0.],\n",
              "         [0.],\n",
              "         [1.]]], dtype=float32)>, TensorShape([3, 3, 1]), 3)"
            ]
          },
          "metadata": {},
          "execution_count": 41
        }
      ]
    },
    {
      "cell_type": "code",
      "metadata": {
        "colab": {
          "base_uri": "https://localhost:8080/"
        },
        "id": "j8PTZkuJkT9h",
        "outputId": "1b052af9-1fb1-4517-9c6c-87bee9633a60"
      },
      "source": [
        "idy4 = tf.expand_dims(idy, axis=0)\n",
        "idy4,idy4.shape,idy4.ndim"
      ],
      "execution_count": null,
      "outputs": [
        {
          "output_type": "execute_result",
          "data": {
            "text/plain": [
              "(<tf.Tensor: shape=(1, 3, 3), dtype=float32, numpy=\n",
              " array([[[1., 0., 0.],\n",
              "         [0., 1., 0.],\n",
              "         [0., 0., 1.]]], dtype=float32)>, TensorShape([1, 3, 3]), 3)"
            ]
          },
          "metadata": {},
          "execution_count": 42
        }
      ]
    },
    {
      "cell_type": "markdown",
      "metadata": {
        "id": "_NDluNKFkWgy"
      },
      "source": [
        "#### Manipulating tensors"
      ]
    },
    {
      "cell_type": "markdown",
      "metadata": {
        "id": "OC-0CAaKkxsa"
      },
      "source": [
        "**Basic Operations**"
      ]
    },
    {
      "cell_type": "code",
      "metadata": {
        "colab": {
          "base_uri": "https://localhost:8080/"
        },
        "id": "uYDZZPK4kWx4",
        "outputId": "afc337c5-7c20-4360-fb29-93605aee15ff"
      },
      "source": [
        "#tensor addition\n",
        "didu = tf.constant([[4,6],\n",
        "                    [7,8]])\n",
        "didu + 12"
      ],
      "execution_count": null,
      "outputs": [
        {
          "output_type": "execute_result",
          "data": {
            "text/plain": [
              "<tf.Tensor: shape=(2, 2), dtype=int32, numpy=\n",
              "array([[16, 18],\n",
              "       [19, 20]], dtype=int32)>"
            ]
          },
          "metadata": {},
          "execution_count": 43
        }
      ]
    },
    {
      "cell_type": "code",
      "metadata": {
        "colab": {
          "base_uri": "https://localhost:8080/"
        },
        "id": "h6tpuzL5kXBG",
        "outputId": "106aa4f0-f564-4269-8c9d-4d89de493800"
      },
      "source": [
        "#using tensor built-in functions will speed up the process when using GPU faster than using basic operations\n",
        "tf.math.add(didu,12)"
      ],
      "execution_count": null,
      "outputs": [
        {
          "output_type": "execute_result",
          "data": {
            "text/plain": [
              "<tf.Tensor: shape=(2, 2), dtype=int32, numpy=\n",
              "array([[16, 18],\n",
              "       [19, 20]], dtype=int32)>"
            ]
          },
          "metadata": {},
          "execution_count": 44
        }
      ]
    },
    {
      "cell_type": "code",
      "metadata": {
        "colab": {
          "base_uri": "https://localhost:8080/"
        },
        "id": "QfzxprTDkXPl",
        "outputId": "a58bc434-b63e-4f07-ca78-92b36d1e0607"
      },
      "source": [
        "\n",
        "didu - 4"
      ],
      "execution_count": null,
      "outputs": [
        {
          "output_type": "execute_result",
          "data": {
            "text/plain": [
              "<tf.Tensor: shape=(2, 2), dtype=int32, numpy=\n",
              "array([[0, 2],\n",
              "       [3, 4]], dtype=int32)>"
            ]
          },
          "metadata": {},
          "execution_count": 45
        }
      ]
    },
    {
      "cell_type": "code",
      "metadata": {
        "colab": {
          "base_uri": "https://localhost:8080/"
        },
        "id": "FssrPBSykXfp",
        "outputId": "857ec9de-267f-4611-dc40-df5a11d36c75"
      },
      "source": [
        "\n",
        "didu * 8"
      ],
      "execution_count": null,
      "outputs": [
        {
          "output_type": "execute_result",
          "data": {
            "text/plain": [
              "<tf.Tensor: shape=(2, 2), dtype=int32, numpy=\n",
              "array([[32, 48],\n",
              "       [56, 64]], dtype=int32)>"
            ]
          },
          "metadata": {},
          "execution_count": 46
        }
      ]
    },
    {
      "cell_type": "code",
      "metadata": {
        "colab": {
          "base_uri": "https://localhost:8080/"
        },
        "id": "6w-dLwx_n6JL",
        "outputId": "b1857fc9-b227-4ee7-c8b8-1ab8f83450e1"
      },
      "source": [
        "\n",
        "tf.math.multiply(didu,8)"
      ],
      "execution_count": null,
      "outputs": [
        {
          "output_type": "execute_result",
          "data": {
            "text/plain": [
              "<tf.Tensor: shape=(2, 2), dtype=int32, numpy=\n",
              "array([[32, 48],\n",
              "       [56, 64]], dtype=int32)>"
            ]
          },
          "metadata": {},
          "execution_count": 47
        }
      ]
    },
    {
      "cell_type": "markdown",
      "metadata": {
        "id": "0DBQsftioAVM"
      },
      "source": [
        "#### Matrix Multiplication"
      ]
    },
    {
      "cell_type": "code",
      "metadata": {
        "colab": {
          "base_uri": "https://localhost:8080/"
        },
        "id": "Pn1fPE4XoFQ_",
        "outputId": "d2a372db-9b1b-405f-ce53-19d93c3eeb11"
      },
      "source": [
        "d0 = tf.constant([[1,2,5],\n",
        "                  [7,2,1],\n",
        "                  [3,3,3]])\n",
        "d1 = tf.constant([[3,5],\n",
        "                  [6,7],\n",
        "                  [1,8]])\n",
        "tf.matmul(d0,d1)"
      ],
      "execution_count": null,
      "outputs": [
        {
          "output_type": "execute_result",
          "data": {
            "text/plain": [
              "<tf.Tensor: shape=(3, 2), dtype=int32, numpy=\n",
              "array([[20, 59],\n",
              "       [34, 57],\n",
              "       [30, 60]], dtype=int32)>"
            ]
          },
          "metadata": {},
          "execution_count": 48
        }
      ]
    },
    {
      "cell_type": "code",
      "metadata": {
        "colab": {
          "base_uri": "https://localhost:8080/"
        },
        "id": "E3a8SzHMoFhV",
        "outputId": "df22aa9d-56f3-43de-899d-2fc06df7a03e"
      },
      "source": [
        "#matrix multiplication using @\n",
        "d0 @ d1"
      ],
      "execution_count": null,
      "outputs": [
        {
          "output_type": "execute_result",
          "data": {
            "text/plain": [
              "<tf.Tensor: shape=(3, 2), dtype=int32, numpy=\n",
              "array([[20, 59],\n",
              "       [34, 57],\n",
              "       [30, 60]], dtype=int32)>"
            ]
          },
          "metadata": {},
          "execution_count": 49
        }
      ]
    },
    {
      "cell_type": "code",
      "metadata": {
        "colab": {
          "base_uri": "https://localhost:8080/"
        },
        "id": "5vUTFbBzoFvh",
        "outputId": "c2e861e9-3f52-4e4e-f4be-542eeb535c15"
      },
      "source": [
        "#usage of tf.transpose\n",
        "d1 @ tf.transpose(d1)"
      ],
      "execution_count": null,
      "outputs": [
        {
          "output_type": "execute_result",
          "data": {
            "text/plain": [
              "<tf.Tensor: shape=(3, 3), dtype=int32, numpy=\n",
              "array([[34, 53, 43],\n",
              "       [53, 85, 62],\n",
              "       [43, 62, 65]], dtype=int32)>"
            ]
          },
          "metadata": {},
          "execution_count": 50
        }
      ]
    },
    {
      "cell_type": "code",
      "metadata": {
        "colab": {
          "base_uri": "https://localhost:8080/"
        },
        "id": "gzrV1VA9rYtl",
        "outputId": "f09607df-6926-41c0-cb75-c45db32aa872"
      },
      "source": [
        "\n",
        "tf.linalg.matmul(d1,tf.transpose(d1))"
      ],
      "execution_count": null,
      "outputs": [
        {
          "output_type": "execute_result",
          "data": {
            "text/plain": [
              "<tf.Tensor: shape=(3, 3), dtype=int32, numpy=\n",
              "array([[34, 53, 43],\n",
              "       [53, 85, 62],\n",
              "       [43, 62, 65]], dtype=int32)>"
            ]
          },
          "metadata": {},
          "execution_count": 51
        }
      ]
    },
    {
      "cell_type": "code",
      "metadata": {
        "id": "blk32JCWrkL3",
        "colab": {
          "base_uri": "https://localhost:8080/"
        },
        "outputId": "e2727ced-d331-4a54-f455-caa6c49e2509"
      },
      "source": [
        "#using tf.tensordot\n",
        "tf.tensordot(d1,tf.transpose(d1),axes = 1)"
      ],
      "execution_count": null,
      "outputs": [
        {
          "output_type": "execute_result",
          "data": {
            "text/plain": [
              "<tf.Tensor: shape=(3, 3), dtype=int32, numpy=\n",
              "array([[34, 53, 43],\n",
              "       [53, 85, 62],\n",
              "       [43, 62, 65]], dtype=int32)>"
            ]
          },
          "metadata": {},
          "execution_count": 52
        }
      ]
    },
    {
      "cell_type": "markdown",
      "metadata": {
        "id": "-VfvITeKrmOt"
      },
      "source": [
        "#### Change the datatype of tensor"
      ]
    },
    {
      "cell_type": "code",
      "metadata": {
        "colab": {
          "base_uri": "https://localhost:8080/"
        },
        "id": "LdJTDhlArmgZ",
        "outputId": "a6440ea5-2abd-4703-dc36-8b847f36cf18"
      },
      "source": [
        "#changing data types using tf.cast, as in sql!!!\n",
        "d0.dtype"
      ],
      "execution_count": null,
      "outputs": [
        {
          "output_type": "execute_result",
          "data": {
            "text/plain": [
              "tf.int32"
            ]
          },
          "metadata": {},
          "execution_count": 53
        }
      ]
    },
    {
      "cell_type": "code",
      "metadata": {
        "colab": {
          "base_uri": "https://localhost:8080/"
        },
        "id": "e4HWAja6rmvU",
        "outputId": "c91c9a5b-92d3-4b5d-9b9f-9fb969b841be"
      },
      "source": [
        "\n",
        "da = tf.cast(d0, dtype=tf.int16)\n",
        "da"
      ],
      "execution_count": null,
      "outputs": [
        {
          "output_type": "execute_result",
          "data": {
            "text/plain": [
              "<tf.Tensor: shape=(3, 3), dtype=int16, numpy=\n",
              "array([[1, 2, 5],\n",
              "       [7, 2, 1],\n",
              "       [3, 3, 3]], dtype=int16)>"
            ]
          },
          "metadata": {},
          "execution_count": 54
        }
      ]
    },
    {
      "cell_type": "code",
      "metadata": {
        "colab": {
          "base_uri": "https://localhost:8080/"
        },
        "id": "xcq_bgQ_rm-C",
        "outputId": "03809338-94df-4d65-9bed-3a462e616e5e"
      },
      "source": [
        "do = tf.cast(d1, dtype=tf.float16)\n",
        "do"
      ],
      "execution_count": null,
      "outputs": [
        {
          "output_type": "execute_result",
          "data": {
            "text/plain": [
              "<tf.Tensor: shape=(3, 2), dtype=float16, numpy=\n",
              "array([[3., 5.],\n",
              "       [6., 7.],\n",
              "       [1., 8.]], dtype=float16)>"
            ]
          },
          "metadata": {},
          "execution_count": 55
        }
      ]
    },
    {
      "cell_type": "code",
      "metadata": {
        "colab": {
          "base_uri": "https://localhost:8080/"
        },
        "id": "zK3gs2cmrnM9",
        "outputId": "63e4973d-ca17-455c-ac43-bf107ef942cb"
      },
      "source": [
        "tf.random.set_seed(42)\n",
        "de = tf.random.normal([3,2],seed=42)\n",
        "de"
      ],
      "execution_count": null,
      "outputs": [
        {
          "output_type": "execute_result",
          "data": {
            "text/plain": [
              "<tf.Tensor: shape=(3, 2), dtype=float32, numpy=\n",
              "array([[ 1.3148774 , -0.15421568],\n",
              "       [ 0.91138786, -0.7991441 ],\n",
              "       [-0.10875293,  0.28436786]], dtype=float32)>"
            ]
          },
          "metadata": {},
          "execution_count": 56
        }
      ]
    },
    {
      "cell_type": "code",
      "metadata": {
        "colab": {
          "base_uri": "https://localhost:8080/"
        },
        "id": "beKhJtvH4wSS",
        "outputId": "dd21dce4-44aa-4da9-a5b0-738b2e341b47"
      },
      "source": [
        "\n",
        "dey = tf.cast(de,dtype=tf.int16)\n",
        "dey"
      ],
      "execution_count": null,
      "outputs": [
        {
          "output_type": "execute_result",
          "data": {
            "text/plain": [
              "<tf.Tensor: shape=(3, 2), dtype=int16, numpy=\n",
              "array([[1, 0],\n",
              "       [0, 0],\n",
              "       [0, 0]], dtype=int16)>"
            ]
          },
          "metadata": {},
          "execution_count": 57
        }
      ]
    },
    {
      "cell_type": "markdown",
      "metadata": {
        "id": "tpZ87tlM4wlB"
      },
      "source": [
        "#### Aggregating tensors"
      ]
    },
    {
      "cell_type": "code",
      "metadata": {
        "colab": {
          "base_uri": "https://localhost:8080/"
        },
        "id": "sLgZdNw266J1",
        "outputId": "85ddf38c-ec07-43e9-e47e-0ed1fc00fbcd"
      },
      "source": [
        "didu"
      ],
      "execution_count": null,
      "outputs": [
        {
          "output_type": "execute_result",
          "data": {
            "text/plain": [
              "<tf.Tensor: shape=(2, 2), dtype=int32, numpy=\n",
              "array([[4, 6],\n",
              "       [7, 8]], dtype=int32)>"
            ]
          },
          "metadata": {},
          "execution_count": 58
        }
      ]
    },
    {
      "cell_type": "code",
      "metadata": {
        "id": "5i7Odnwy9fTN"
      },
      "source": [
        "dede = tf.cast(didu,dtype=tf.float16)"
      ],
      "execution_count": null,
      "outputs": []
    },
    {
      "cell_type": "code",
      "metadata": {
        "colab": {
          "base_uri": "https://localhost:8080/"
        },
        "id": "-5m_5o7x664f",
        "outputId": "9b0663c8-8ba3-4af2-eb19-df691424f3eb"
      },
      "source": [
        "tf.abs(-didu)"
      ],
      "execution_count": null,
      "outputs": [
        {
          "output_type": "execute_result",
          "data": {
            "text/plain": [
              "<tf.Tensor: shape=(2, 2), dtype=int32, numpy=\n",
              "array([[4, 6],\n",
              "       [7, 8]], dtype=int32)>"
            ]
          },
          "metadata": {},
          "execution_count": 60
        }
      ]
    },
    {
      "cell_type": "code",
      "metadata": {
        "colab": {
          "base_uri": "https://localhost:8080/"
        },
        "id": "w-KzJ-5e67GL",
        "outputId": "1512d1f1-0909-4778-f50d-eb2522c29379"
      },
      "source": [
        "#find the mean of each row of didu\n",
        "tf.reduce_mean(dede,axis = 0)"
      ],
      "execution_count": null,
      "outputs": [
        {
          "output_type": "execute_result",
          "data": {
            "text/plain": [
              "<tf.Tensor: shape=(2,), dtype=float16, numpy=array([5.5, 7. ], dtype=float16)>"
            ]
          },
          "metadata": {},
          "execution_count": 61
        }
      ]
    },
    {
      "cell_type": "code",
      "metadata": {
        "colab": {
          "base_uri": "https://localhost:8080/"
        },
        "id": "MJzq4ej367Uo",
        "outputId": "17e8a438-1f24-4a91-f8eb-00bbe86784e4"
      },
      "source": [
        "tf.reduce_mean(dede,axis = 1)"
      ],
      "execution_count": null,
      "outputs": [
        {
          "output_type": "execute_result",
          "data": {
            "text/plain": [
              "<tf.Tensor: shape=(2,), dtype=float16, numpy=array([5. , 7.5], dtype=float16)>"
            ]
          },
          "metadata": {},
          "execution_count": 62
        }
      ]
    },
    {
      "cell_type": "code",
      "metadata": {
        "colab": {
          "base_uri": "https://localhost:8080/"
        },
        "id": "h7K7F__K9Trd",
        "outputId": "7c65c244-bfc8-4e88-fbf1-2ef32bc46eb9"
      },
      "source": [
        "#look for min numnber\n",
        "tf.reduce_min(dede,axis = 1)"
      ],
      "execution_count": null,
      "outputs": [
        {
          "output_type": "execute_result",
          "data": {
            "text/plain": [
              "<tf.Tensor: shape=(2,), dtype=float16, numpy=array([4., 7.], dtype=float16)>"
            ]
          },
          "metadata": {},
          "execution_count": 63
        }
      ]
    },
    {
      "cell_type": "code",
      "metadata": {
        "colab": {
          "base_uri": "https://localhost:8080/"
        },
        "id": "Qkf0FKYm92nJ",
        "outputId": "6d0f0977-525b-456c-9e94-effaf04fab6d"
      },
      "source": [
        "tf.reduce_min(dede,axis = 0)"
      ],
      "execution_count": null,
      "outputs": [
        {
          "output_type": "execute_result",
          "data": {
            "text/plain": [
              "<tf.Tensor: shape=(2,), dtype=float16, numpy=array([4., 6.], dtype=float16)>"
            ]
          },
          "metadata": {},
          "execution_count": 64
        }
      ]
    },
    {
      "cell_type": "code",
      "metadata": {
        "colab": {
          "base_uri": "https://localhost:8080/"
        },
        "id": "DGMUdYVG-KNW",
        "outputId": "13d9b468-2c10-4843-fc1c-4dbac7fa6c0d"
      },
      "source": [
        "#let's do sums\n",
        "tf.reduce_sum(dede, axis = 0)"
      ],
      "execution_count": null,
      "outputs": [
        {
          "output_type": "execute_result",
          "data": {
            "text/plain": [
              "<tf.Tensor: shape=(2,), dtype=float16, numpy=array([11., 14.], dtype=float16)>"
            ]
          },
          "metadata": {},
          "execution_count": 65
        }
      ]
    },
    {
      "cell_type": "code",
      "metadata": {
        "colab": {
          "base_uri": "https://localhost:8080/"
        },
        "id": "PbnVlYYa-bFZ",
        "outputId": "3874d5db-6b2a-46ec-802a-0cd763e0f86c"
      },
      "source": [
        "#let's find the sd and var\n",
        "tf.math.reduce_std(dede)"
      ],
      "execution_count": null,
      "outputs": [
        {
          "output_type": "execute_result",
          "data": {
            "text/plain": [
              "<tf.Tensor: shape=(), dtype=float16, numpy=1.4795>"
            ]
          },
          "metadata": {},
          "execution_count": 66
        }
      ]
    },
    {
      "cell_type": "code",
      "metadata": {
        "colab": {
          "base_uri": "https://localhost:8080/"
        },
        "id": "jPojpBqK_Rsd",
        "outputId": "eb5aa03a-c1f4-46bb-fa64-3ed15b1c3a93"
      },
      "source": [
        "tf.math.reduce_variance(dede)"
      ],
      "execution_count": null,
      "outputs": [
        {
          "output_type": "execute_result",
          "data": {
            "text/plain": [
              "<tf.Tensor: shape=(), dtype=float16, numpy=2.188>"
            ]
          },
          "metadata": {},
          "execution_count": 67
        }
      ]
    },
    {
      "cell_type": "code",
      "metadata": {
        "colab": {
          "base_uri": "https://localhost:8080/"
        },
        "id": "TdZ86A_j_W_n",
        "outputId": "236ac356-ee76-44b7-eee4-ccf8f05ec8aa"
      },
      "source": [
        "1.4795**2"
      ],
      "execution_count": null,
      "outputs": [
        {
          "output_type": "execute_result",
          "data": {
            "text/plain": [
              "2.1889202500000002"
            ]
          },
          "metadata": {},
          "execution_count": 68
        }
      ]
    },
    {
      "cell_type": "code",
      "metadata": {
        "id": "3UBFC51N_csk"
      },
      "source": [
        "import tensorflow_probability as tfp"
      ],
      "execution_count": null,
      "outputs": []
    },
    {
      "cell_type": "code",
      "metadata": {
        "colab": {
          "base_uri": "https://localhost:8080/"
        },
        "id": "BZdV7na5DXup",
        "outputId": "0a60f9d3-3bad-4d65-c754-742408c86180"
      },
      "source": [
        "tfp.stats.variance(didu,sample_axis=None)"
      ],
      "execution_count": null,
      "outputs": [
        {
          "output_type": "execute_result",
          "data": {
            "text/plain": [
              "<tf.Tensor: shape=(), dtype=int32, numpy=2>"
            ]
          },
          "metadata": {},
          "execution_count": 70
        }
      ]
    },
    {
      "cell_type": "code",
      "metadata": {
        "colab": {
          "base_uri": "https://localhost:8080/"
        },
        "id": "41sfWlWyDfjG",
        "outputId": "96c85364-a710-4467-c014-7c5b70a6e637"
      },
      "source": [
        "tfp.stats.variance(dede,sample_axis=None)"
      ],
      "execution_count": null,
      "outputs": [
        {
          "output_type": "execute_result",
          "data": {
            "text/plain": [
              "<tf.Tensor: shape=(), dtype=float16, numpy=2.188>"
            ]
          },
          "metadata": {},
          "execution_count": 71
        }
      ]
    },
    {
      "cell_type": "code",
      "metadata": {
        "colab": {
          "base_uri": "https://localhost:8080/",
          "height": 255
        },
        "id": "huDN68K2Dre7",
        "outputId": "4948764b-9bc5-4005-c977-b4debb07984a"
      },
      "source": [
        "tfp.stats.stddev(didu,sample_axis=None)"
      ],
      "execution_count": null,
      "outputs": [
        {
          "output_type": "error",
          "ename": "InvalidArgumentError",
          "evalue": "ignored",
          "traceback": [
            "\u001b[0;31m---------------------------------------------------------------------------\u001b[0m",
            "\u001b[0;31mInvalidArgumentError\u001b[0m                      Traceback (most recent call last)",
            "\u001b[0;32m<ipython-input-72-163b9cffd48d>\u001b[0m in \u001b[0;36m<module>\u001b[0;34m()\u001b[0m\n\u001b[0;32m----> 1\u001b[0;31m \u001b[0mtfp\u001b[0m\u001b[0;34m.\u001b[0m\u001b[0mstats\u001b[0m\u001b[0;34m.\u001b[0m\u001b[0mstddev\u001b[0m\u001b[0;34m(\u001b[0m\u001b[0mdidu\u001b[0m\u001b[0;34m,\u001b[0m\u001b[0msample_axis\u001b[0m\u001b[0;34m=\u001b[0m\u001b[0;32mNone\u001b[0m\u001b[0;34m)\u001b[0m\u001b[0;34m\u001b[0m\u001b[0;34m\u001b[0m\u001b[0m\n\u001b[0m",
            "\u001b[0;32m/usr/local/lib/python3.7/dist-packages/tensorflow_probability/python/stats/sample_stats.py\u001b[0m in \u001b[0;36mstddev\u001b[0;34m(x, sample_axis, keepdims, name)\u001b[0m\n\u001b[1;32m    604\u001b[0m   \"\"\"\n\u001b[1;32m    605\u001b[0m   \u001b[0;32mwith\u001b[0m \u001b[0mtf\u001b[0m\u001b[0;34m.\u001b[0m\u001b[0mname_scope\u001b[0m\u001b[0;34m(\u001b[0m\u001b[0mname\u001b[0m \u001b[0;32mor\u001b[0m \u001b[0;34m'stddev'\u001b[0m\u001b[0;34m)\u001b[0m\u001b[0;34m:\u001b[0m\u001b[0;34m\u001b[0m\u001b[0;34m\u001b[0m\u001b[0m\n\u001b[0;32m--> 606\u001b[0;31m     \u001b[0;32mreturn\u001b[0m \u001b[0mtf\u001b[0m\u001b[0;34m.\u001b[0m\u001b[0msqrt\u001b[0m\u001b[0;34m(\u001b[0m\u001b[0mvariance\u001b[0m\u001b[0;34m(\u001b[0m\u001b[0mx\u001b[0m\u001b[0;34m,\u001b[0m \u001b[0msample_axis\u001b[0m\u001b[0;34m=\u001b[0m\u001b[0msample_axis\u001b[0m\u001b[0;34m,\u001b[0m \u001b[0mkeepdims\u001b[0m\u001b[0;34m=\u001b[0m\u001b[0mkeepdims\u001b[0m\u001b[0;34m)\u001b[0m\u001b[0;34m)\u001b[0m\u001b[0;34m\u001b[0m\u001b[0;34m\u001b[0m\u001b[0m\n\u001b[0m\u001b[1;32m    607\u001b[0m \u001b[0;34m\u001b[0m\u001b[0m\n\u001b[1;32m    608\u001b[0m \u001b[0;34m\u001b[0m\u001b[0m\n",
            "\u001b[0;32m/usr/local/lib/python3.7/dist-packages/tensorflow/python/util/dispatch.py\u001b[0m in \u001b[0;36mwrapper\u001b[0;34m(*args, **kwargs)\u001b[0m\n\u001b[1;32m    204\u001b[0m     \u001b[0;34m\"\"\"Call target, and fall back on dispatchers if there is a TypeError.\"\"\"\u001b[0m\u001b[0;34m\u001b[0m\u001b[0;34m\u001b[0m\u001b[0m\n\u001b[1;32m    205\u001b[0m     \u001b[0;32mtry\u001b[0m\u001b[0;34m:\u001b[0m\u001b[0;34m\u001b[0m\u001b[0;34m\u001b[0m\u001b[0m\n\u001b[0;32m--> 206\u001b[0;31m       \u001b[0;32mreturn\u001b[0m \u001b[0mtarget\u001b[0m\u001b[0;34m(\u001b[0m\u001b[0;34m*\u001b[0m\u001b[0margs\u001b[0m\u001b[0;34m,\u001b[0m \u001b[0;34m**\u001b[0m\u001b[0mkwargs\u001b[0m\u001b[0;34m)\u001b[0m\u001b[0;34m\u001b[0m\u001b[0;34m\u001b[0m\u001b[0m\n\u001b[0m\u001b[1;32m    207\u001b[0m     \u001b[0;32mexcept\u001b[0m \u001b[0;34m(\u001b[0m\u001b[0mTypeError\u001b[0m\u001b[0;34m,\u001b[0m \u001b[0mValueError\u001b[0m\u001b[0;34m)\u001b[0m\u001b[0;34m:\u001b[0m\u001b[0;34m\u001b[0m\u001b[0;34m\u001b[0m\u001b[0m\n\u001b[1;32m    208\u001b[0m       \u001b[0;31m# Note: convert_to_eager_tensor currently raises a ValueError, not a\u001b[0m\u001b[0;34m\u001b[0m\u001b[0;34m\u001b[0m\u001b[0;34m\u001b[0m\u001b[0m\n",
            "\u001b[0;32m/usr/local/lib/python3.7/dist-packages/tensorflow/python/ops/math_ops.py\u001b[0m in \u001b[0;36msqrt\u001b[0;34m(x, name)\u001b[0m\n\u001b[1;32m   5324\u001b[0m     \u001b[0mA\u001b[0m\u001b[0;31m \u001b[0m\u001b[0;31m`\u001b[0m\u001b[0mtf\u001b[0m\u001b[0;34m.\u001b[0m\u001b[0mTensor\u001b[0m\u001b[0;31m`\u001b[0m \u001b[0mof\u001b[0m \u001b[0msame\u001b[0m \u001b[0msize\u001b[0m\u001b[0;34m,\u001b[0m \u001b[0mtype\u001b[0m \u001b[0;32mand\u001b[0m \u001b[0msparsity\u001b[0m \u001b[0;32mas\u001b[0m\u001b[0;31m \u001b[0m\u001b[0;31m`\u001b[0m\u001b[0mx\u001b[0m\u001b[0;31m`\u001b[0m\u001b[0;34m.\u001b[0m\u001b[0;34m\u001b[0m\u001b[0;34m\u001b[0m\u001b[0m\n\u001b[1;32m   5325\u001b[0m   \"\"\"\n\u001b[0;32m-> 5326\u001b[0;31m   \u001b[0;32mreturn\u001b[0m \u001b[0mgen_math_ops\u001b[0m\u001b[0;34m.\u001b[0m\u001b[0msqrt\u001b[0m\u001b[0;34m(\u001b[0m\u001b[0mx\u001b[0m\u001b[0;34m,\u001b[0m \u001b[0mname\u001b[0m\u001b[0;34m)\u001b[0m\u001b[0;34m\u001b[0m\u001b[0;34m\u001b[0m\u001b[0m\n\u001b[0m\u001b[1;32m   5327\u001b[0m \u001b[0;34m\u001b[0m\u001b[0m\n\u001b[1;32m   5328\u001b[0m \u001b[0;34m\u001b[0m\u001b[0m\n",
            "\u001b[0;32m/usr/local/lib/python3.7/dist-packages/tensorflow/python/ops/gen_math_ops.py\u001b[0m in \u001b[0;36msqrt\u001b[0;34m(x, name)\u001b[0m\n\u001b[1;32m  10299\u001b[0m       \u001b[0;32mreturn\u001b[0m \u001b[0m_result\u001b[0m\u001b[0;34m\u001b[0m\u001b[0;34m\u001b[0m\u001b[0m\n\u001b[1;32m  10300\u001b[0m     \u001b[0;32mexcept\u001b[0m \u001b[0m_core\u001b[0m\u001b[0;34m.\u001b[0m\u001b[0m_NotOkStatusException\u001b[0m \u001b[0;32mas\u001b[0m \u001b[0me\u001b[0m\u001b[0;34m:\u001b[0m\u001b[0;34m\u001b[0m\u001b[0;34m\u001b[0m\u001b[0m\n\u001b[0;32m> 10301\u001b[0;31m       \u001b[0m_ops\u001b[0m\u001b[0;34m.\u001b[0m\u001b[0mraise_from_not_ok_status\u001b[0m\u001b[0;34m(\u001b[0m\u001b[0me\u001b[0m\u001b[0;34m,\u001b[0m \u001b[0mname\u001b[0m\u001b[0;34m)\u001b[0m\u001b[0;34m\u001b[0m\u001b[0;34m\u001b[0m\u001b[0m\n\u001b[0m\u001b[1;32m  10302\u001b[0m     \u001b[0;32mexcept\u001b[0m \u001b[0m_core\u001b[0m\u001b[0;34m.\u001b[0m\u001b[0m_FallbackException\u001b[0m\u001b[0;34m:\u001b[0m\u001b[0;34m\u001b[0m\u001b[0;34m\u001b[0m\u001b[0m\n\u001b[1;32m  10303\u001b[0m       \u001b[0;32mpass\u001b[0m\u001b[0;34m\u001b[0m\u001b[0;34m\u001b[0m\u001b[0m\n",
            "\u001b[0;32m/usr/local/lib/python3.7/dist-packages/tensorflow/python/framework/ops.py\u001b[0m in \u001b[0;36mraise_from_not_ok_status\u001b[0;34m(e, name)\u001b[0m\n\u001b[1;32m   6939\u001b[0m   \u001b[0mmessage\u001b[0m \u001b[0;34m=\u001b[0m \u001b[0me\u001b[0m\u001b[0;34m.\u001b[0m\u001b[0mmessage\u001b[0m \u001b[0;34m+\u001b[0m \u001b[0;34m(\u001b[0m\u001b[0;34m\" name: \"\u001b[0m \u001b[0;34m+\u001b[0m \u001b[0mname\u001b[0m \u001b[0;32mif\u001b[0m \u001b[0mname\u001b[0m \u001b[0;32mis\u001b[0m \u001b[0;32mnot\u001b[0m \u001b[0;32mNone\u001b[0m \u001b[0;32melse\u001b[0m \u001b[0;34m\"\"\u001b[0m\u001b[0;34m)\u001b[0m\u001b[0;34m\u001b[0m\u001b[0;34m\u001b[0m\u001b[0m\n\u001b[1;32m   6940\u001b[0m   \u001b[0;31m# pylint: disable=protected-access\u001b[0m\u001b[0;34m\u001b[0m\u001b[0;34m\u001b[0m\u001b[0;34m\u001b[0m\u001b[0m\n\u001b[0;32m-> 6941\u001b[0;31m   \u001b[0msix\u001b[0m\u001b[0;34m.\u001b[0m\u001b[0mraise_from\u001b[0m\u001b[0;34m(\u001b[0m\u001b[0mcore\u001b[0m\u001b[0;34m.\u001b[0m\u001b[0m_status_to_exception\u001b[0m\u001b[0;34m(\u001b[0m\u001b[0me\u001b[0m\u001b[0;34m.\u001b[0m\u001b[0mcode\u001b[0m\u001b[0;34m,\u001b[0m \u001b[0mmessage\u001b[0m\u001b[0;34m)\u001b[0m\u001b[0;34m,\u001b[0m \u001b[0;32mNone\u001b[0m\u001b[0;34m)\u001b[0m\u001b[0;34m\u001b[0m\u001b[0;34m\u001b[0m\u001b[0m\n\u001b[0m\u001b[1;32m   6942\u001b[0m   \u001b[0;31m# pylint: enable=protected-access\u001b[0m\u001b[0;34m\u001b[0m\u001b[0;34m\u001b[0m\u001b[0;34m\u001b[0m\u001b[0m\n\u001b[1;32m   6943\u001b[0m \u001b[0;34m\u001b[0m\u001b[0m\n",
            "\u001b[0;32m/usr/local/lib/python3.7/dist-packages/six.py\u001b[0m in \u001b[0;36mraise_from\u001b[0;34m(value, from_value)\u001b[0m\n",
            "\u001b[0;31mInvalidArgumentError\u001b[0m: Value for attr 'T' of int32 is not in the list of allowed values: bfloat16, half, float, double, complex64, complex128\n\t; NodeDef: {{node Sqrt}}; Op<name=Sqrt; signature=x:T -> y:T; attr=T:type,allowed=[DT_BFLOAT16, DT_HALF, DT_FLOAT, DT_DOUBLE, DT_COMPLEX64, DT_COMPLEX128]> [Op:Sqrt]"
          ]
        }
      ]
    },
    {
      "cell_type": "code",
      "metadata": {
        "id": "rrS2kLRIELDg"
      },
      "source": [
        "tfp.stats.stddev(dede,sample_axis=None)"
      ],
      "execution_count": null,
      "outputs": []
    },
    {
      "cell_type": "code",
      "metadata": {
        "id": "kVLj6QTVESu1"
      },
      "source": [
        "tf.math.reduce_std(didu)"
      ],
      "execution_count": null,
      "outputs": []
    },
    {
      "cell_type": "markdown",
      "metadata": {
        "id": "tZElJR2GEZvX"
      },
      "source": [
        "#### Find the positional maximum and minimum"
      ]
    },
    {
      "cell_type": "code",
      "metadata": {
        "id": "_Yvw70DVEzCa"
      },
      "source": [
        "#let's find the index at which the maximum value is (argmax)\n",
        "tf.math.argmax(dede,axis = 1)"
      ],
      "execution_count": null,
      "outputs": []
    },
    {
      "cell_type": "code",
      "metadata": {
        "id": "Uf3cKDKZEzgL"
      },
      "source": [
        "dede"
      ],
      "execution_count": null,
      "outputs": []
    },
    {
      "cell_type": "code",
      "metadata": {
        "id": "ZFtIKbIKEzwx"
      },
      "source": [
        "tf.math.argmin(dede,axis = 0)"
      ],
      "execution_count": null,
      "outputs": []
    },
    {
      "cell_type": "markdown",
      "metadata": {
        "id": "2z8F5tlyE0Av"
      },
      "source": [
        "watch vid 25"
      ]
    },
    {
      "cell_type": "code",
      "metadata": {
        "id": "M60kiWD7JOO0"
      },
      "source": [
        "tf.math.argmin(dede)"
      ],
      "execution_count": null,
      "outputs": []
    },
    {
      "cell_type": "code",
      "metadata": {
        "id": "BYg-xW09XO77"
      },
      "source": [
        "tf.math.argmin(tf.reshape(dede,(tf.size(dede),1)))"
      ],
      "execution_count": null,
      "outputs": []
    },
    {
      "cell_type": "code",
      "metadata": {
        "id": "ppPNP6pHXPy_"
      },
      "source": [
        "dede.shape"
      ],
      "execution_count": null,
      "outputs": []
    },
    {
      "cell_type": "code",
      "metadata": {
        "id": "FtB29IFkXQEc"
      },
      "source": [
        "tf.size(dede)"
      ],
      "execution_count": null,
      "outputs": []
    },
    {
      "cell_type": "code",
      "metadata": {
        "id": "ldXZtFHZXQUT"
      },
      "source": [
        "tf.math.argmax(tf.reshape(dede,(tf.size(dede),1)))"
      ],
      "execution_count": null,
      "outputs": []
    },
    {
      "cell_type": "code",
      "metadata": {
        "id": "qAaTuZQCYeOs"
      },
      "source": [
        "tf.math.argmax(tf.reshape(dede,(tf.size(dede),1))).numpy().tolist()"
      ],
      "execution_count": null,
      "outputs": []
    },
    {
      "cell_type": "markdown",
      "metadata": {
        "id": "fLkKiCz8YhvY"
      },
      "source": [
        "#### Squeezing tensors\n",
        "This is done to remove all extra 1 dimension in our tensor shape"
      ]
    },
    {
      "cell_type": "code",
      "metadata": {
        "id": "DzFkVQVtYn7H"
      },
      "source": [
        "tf.random.set_seed(42)\n",
        "gety = tf.constant(tf.random.uniform(shape=[50]),shape=[2,1,1,1,25])\n",
        "gety"
      ],
      "execution_count": null,
      "outputs": []
    },
    {
      "cell_type": "code",
      "metadata": {
        "id": "Vh1gE_aMYoH1"
      },
      "source": [
        "#let us see what squeeze does\n",
        "gety_sq = tf.squeeze(gety)\n",
        "gety_sq"
      ],
      "execution_count": null,
      "outputs": []
    },
    {
      "cell_type": "markdown",
      "metadata": {
        "id": "Kzsf-yeYYoTd"
      },
      "source": [
        "#### One-hot encoder\n",
        "this is the same as we have seen in sklearn!!"
      ]
    },
    {
      "cell_type": "code",
      "metadata": {
        "id": "diPQEM2ZYo8k"
      },
      "source": [
        "#create a list\n",
        "yupi = ['ikarita','ihene','ipusi','ikiyiko']"
      ],
      "execution_count": null,
      "outputs": []
    },
    {
      "cell_type": "code",
      "metadata": {
        "id": "84Vyg2z_c3LC"
      },
      "source": [
        "kaka = tf.constant(yupi)\n",
        "kaka"
      ],
      "execution_count": null,
      "outputs": []
    },
    {
      "cell_type": "code",
      "metadata": {
        "id": "4h6XxG-Ec-8j"
      },
      "source": [
        "np.array(yupi)"
      ],
      "execution_count": null,
      "outputs": []
    },
    {
      "cell_type": "code",
      "metadata": {
        "id": "SxbM--_LYpJY"
      },
      "source": [
        "#let's turn our list in numeric values\n",
        "for dep in range(9):\n",
        "  print(tf.one_hot([4,5,7,7,6,2],depth=dep))"
      ],
      "execution_count": null,
      "outputs": []
    },
    {
      "cell_type": "code",
      "metadata": {
        "id": "vkM1ZVp7YpWZ"
      },
      "source": [
        "for dep in range(9):\n",
        "  print(tf.one_hot([4,5,7,7,6,2],depth=dep,on_value=\"yes\",off_value=\"0\"))"
      ],
      "execution_count": null,
      "outputs": []
    },
    {
      "cell_type": "markdown",
      "metadata": {
        "id": "hPZT1AQTem79"
      },
      "source": [
        "#### square, sqrt and log"
      ]
    },
    {
      "cell_type": "code",
      "metadata": {
        "id": "IMqnlPIhekrQ"
      },
      "source": [
        "tiku = tf.range(1,12)\n",
        "tiku"
      ],
      "execution_count": null,
      "outputs": []
    },
    {
      "cell_type": "code",
      "metadata": {
        "id": "BWSa4P6dek2q"
      },
      "source": [
        "tf.math.square(tiku)"
      ],
      "execution_count": null,
      "outputs": []
    },
    {
      "cell_type": "code",
      "metadata": {
        "id": "PGVoRcQoel-J"
      },
      "source": [
        "tf.math.sqrt(tf.cast(tiku,dtype=tf.float32))"
      ],
      "execution_count": null,
      "outputs": []
    },
    {
      "cell_type": "code",
      "metadata": {
        "id": "VL6-fkmZemJO"
      },
      "source": [
        "tf.math.log(tf.cast(tiku,dtype=tf.float32))"
      ],
      "execution_count": null,
      "outputs": []
    },
    {
      "cell_type": "markdown",
      "metadata": {
        "id": "nXvhfdYHemZY"
      },
      "source": [
        "#### Tensors and Numpy"
      ]
    },
    {
      "cell_type": "code",
      "metadata": {
        "id": "tGsWVmO5ktp_"
      },
      "source": [
        "numy = np.arange(1,4)\n",
        "tfy = tf.constant(numy)\n",
        "tfy1 = tf.constant([2,4,5,3,7])\n",
        "numy,tfy,tfy1"
      ],
      "execution_count": null,
      "outputs": []
    },
    {
      "cell_type": "markdown",
      "metadata": {
        "id": "2Hh3f3ockt53"
      },
      "source": [
        "### Getting access to a GPU"
      ]
    },
    {
      "cell_type": "code",
      "metadata": {
        "id": "hc9JhA-TkukB"
      },
      "source": [
        "#let's check which unit we are using\n",
        "tf.config.get_visible_devices()"
      ],
      "execution_count": null,
      "outputs": []
    },
    {
      "cell_type": "markdown",
      "metadata": {
        "id": "J4VLhJw9ku80"
      },
      "source": [
        "let us try get access to a GPU from colab"
      ]
    },
    {
      "cell_type": "markdown",
      "metadata": {
        "id": "1G6v9IeHpMLu"
      },
      "source": [
        "after setting a GPU we have to import tensorflow again"
      ]
    },
    {
      "cell_type": "code",
      "metadata": {
        "id": "3SUpBzvCp1ei"
      },
      "source": [
        "!nvidia-smi"
      ],
      "execution_count": null,
      "outputs": []
    },
    {
      "cell_type": "markdown",
      "metadata": {
        "id": "Irnajm82p8YD"
      },
      "source": [
        "### Solving some exercises"
      ]
    },
    {
      "cell_type": "code",
      "metadata": {
        "id": "cgn-8WBjjxVm"
      },
      "source": [
        "sca = tf.constant(7)\n",
        "mat = tf.constant([[1,2],\n",
        "                   [4,3]])\n",
        "vec = tf.constant([1,2,5,6])\n",
        "tens = tf.constant(tf.random.uniform([2,2,2,4]))\n",
        "sca,mat,vec,tens"
      ],
      "execution_count": null,
      "outputs": []
    },
    {
      "cell_type": "code",
      "metadata": {
        "id": "1oy9Og25jxoS"
      },
      "source": [
        "sca.shape,tf.size(sca),sca.ndim,mat.shape,tf.size(mat),mat.ndim,vec.shape,tf.size(vec),vec.ndim,tens.shape,tf.size(tens),tens.ndim"
      ],
      "execution_count": null,
      "outputs": []
    },
    {
      "cell_type": "code",
      "metadata": {
        "id": "vmfU3EOrjx4w"
      },
      "source": [
        "tensy = tf.random.uniform([5,300],maxval=1)\n",
        "tenso = tf.random.uniform([5,300],maxval=1)\n",
        "tensy,tenso"
      ],
      "execution_count": null,
      "outputs": []
    },
    {
      "cell_type": "code",
      "metadata": {
        "id": "JUzaVKSKl2QD"
      },
      "source": [
        "tf.linalg.matmul(tensy,tf.transpose(tenso))"
      ],
      "execution_count": null,
      "outputs": []
    },
    {
      "cell_type": "code",
      "metadata": {
        "id": "2h4JcZE7mJUI"
      },
      "source": [
        "tf.tensordot(tensy,tf.transpose(tenso), axes=1)"
      ],
      "execution_count": null,
      "outputs": []
    },
    {
      "cell_type": "code",
      "metadata": {
        "id": "IX0387A4mgjx"
      },
      "source": [
        "tete = tf.random.uniform([224,224,3],maxval=1)\n",
        "tete"
      ],
      "execution_count": null,
      "outputs": []
    },
    {
      "cell_type": "code",
      "metadata": {
        "id": "dbOFN5KIni2w"
      },
      "source": [
        "tf.reduce_max(tete,axis=0), tf.reduce_min(tete,axis=0)"
      ],
      "execution_count": null,
      "outputs": []
    },
    {
      "cell_type": "code",
      "metadata": {
        "id": "7o8gknLnoFu8"
      },
      "source": [
        "tutu = tf.random.uniform([1,224,224,3],maxval=1)\n",
        "tutu"
      ],
      "execution_count": null,
      "outputs": []
    },
    {
      "cell_type": "code",
      "metadata": {
        "id": "FCM7GuUmolSX"
      },
      "source": [
        "tf.squeeze(tutu)\n"
      ],
      "execution_count": null,
      "outputs": []
    },
    {
      "cell_type": "code",
      "metadata": {
        "id": "zz57SJXYoqwZ"
      },
      "source": [
        "turi = tf.range(10)\n",
        "turi.shape"
      ],
      "execution_count": null,
      "outputs": []
    },
    {
      "cell_type": "code",
      "metadata": {
        "id": "-RjIZwxgpBUU"
      },
      "source": [
        "tf.argmax(turi)"
      ],
      "execution_count": null,
      "outputs": []
    },
    {
      "cell_type": "code",
      "metadata": {
        "id": "qMFmYCZvpHTr"
      },
      "source": [
        "depth = 10\n",
        "tf.one_hot(turi,depth)"
      ],
      "execution_count": null,
      "outputs": []
    },
    {
      "cell_type": "markdown",
      "metadata": {
        "id": "URheNmzppTLA"
      },
      "source": [
        "#### lets look at cosine"
      ]
    },
    {
      "cell_type": "code",
      "metadata": {
        "id": "J0z-J3HoqqHM"
      },
      "source": [
        "#we use tf.math.cos()\n",
        "cosy = tf.random.uniform([7])\n",
        "tf.math.cos(cosy)"
      ],
      "execution_count": null,
      "outputs": []
    },
    {
      "cell_type": "code",
      "metadata": {
        "id": "IT8dmD4nrXV8"
      },
      "source": [
        "mnist = tf.keras.datasets.mnist\n",
        "# mnist.load_data()"
      ],
      "execution_count": null,
      "outputs": []
    },
    {
      "cell_type": "code",
      "metadata": {
        "id": "f5iFc9Hm3b3v"
      },
      "source": [
        "(X_train,y_train),(X_test,y_test) = mnist.load_data()"
      ],
      "execution_count": null,
      "outputs": []
    },
    {
      "cell_type": "code",
      "metadata": {
        "id": "PnGcV3nT5o4r"
      },
      "source": [
        "X_train.shape"
      ],
      "execution_count": null,
      "outputs": []
    },
    {
      "cell_type": "code",
      "metadata": {
        "id": "Dmgkph3H5ssZ"
      },
      "source": [
        "X_train[-2,-4:,-4:]"
      ],
      "execution_count": null,
      "outputs": []
    },
    {
      "cell_type": "code",
      "metadata": {
        "id": "Wb6qXWB-6Dha"
      },
      "source": [
        "tf.argmax(tf.reshape(X_train,[-1]))"
      ],
      "execution_count": null,
      "outputs": []
    },
    {
      "cell_type": "code",
      "metadata": {
        "id": "29kWqG1W6hCz"
      },
      "source": [
        "tf.reshape(X_train,[-1]).shape"
      ],
      "execution_count": null,
      "outputs": []
    },
    {
      "cell_type": "code",
      "metadata": {
        "id": "wuwYHKB86svR"
      },
      "source": [
        "6*28*28"
      ],
      "execution_count": null,
      "outputs": []
    },
    {
      "cell_type": "markdown",
      "metadata": {
        "id": "hn9TidAx6xVG"
      },
      "source": [
        "let us convert the datasets from integers to floating "
      ]
    },
    {
      "cell_type": "code",
      "metadata": {
        "id": "bmRvgY8n8JTp"
      },
      "source": [
        "X_test,X_train = X_test/255.0,X_train/255.0 "
      ],
      "execution_count": null,
      "outputs": []
    },
    {
      "cell_type": "code",
      "metadata": {
        "id": "nC7NS2jm8S15"
      },
      "source": [
        "X_test.shape"
      ],
      "execution_count": null,
      "outputs": []
    },
    {
      "cell_type": "code",
      "metadata": {
        "id": "ARbUSZ_D8XXt"
      },
      "source": [
        "tf.size(X_test)"
      ],
      "execution_count": null,
      "outputs": []
    },
    {
      "cell_type": "code",
      "metadata": {
        "id": "AjVCVYX38cJP"
      },
      "source": [
        "X_test.dtype"
      ],
      "execution_count": null,
      "outputs": []
    },
    {
      "cell_type": "code",
      "metadata": {
        "id": "S-thlkIl8h1o"
      },
      "source": [
        "y_test.shape"
      ],
      "execution_count": null,
      "outputs": []
    },
    {
      "cell_type": "markdown",
      "metadata": {
        "id": "qw4IZ-PF8tlf"
      },
      "source": [
        "let's create our first model with keras"
      ]
    },
    {
      "cell_type": "code",
      "metadata": {
        "id": "_-pFGpu_x3lb"
      },
      "source": [
        "model = tf.keras.Sequential([\n",
        "                             tf.keras.layers.Flatten(input_shape=(28,28)),\n",
        "                             tf.keras.layers.Dense(128,activation='relu'),\n",
        "                             tf.keras.layers.Dropout(0.2),\n",
        "                             tf.keras.layers.Dense(10)\n",
        "])"
      ],
      "execution_count": null,
      "outputs": []
    },
    {
      "cell_type": "code",
      "metadata": {
        "id": "gv6vZTwfzDe6"
      },
      "source": [
        "preds = model(X_train[:1])\n",
        "preds.numpy()"
      ],
      "execution_count": null,
      "outputs": []
    },
    {
      "cell_type": "code",
      "metadata": {
        "id": "hmHuC0ouzVqE"
      },
      "source": [
        "#let's turn them into probability\n",
        "tf.nn.softmax(preds).numpy()"
      ],
      "execution_count": null,
      "outputs": []
    },
    {
      "cell_type": "code",
      "metadata": {
        "id": "zArwrooazV5u"
      },
      "source": [
        "#let's evaluate our model by creating a loss fct to evaluate our preds based on real values\n",
        "loss_fn = tf.keras.losses.SparseCategoricalCrossentropy(from_logits=True)"
      ],
      "execution_count": null,
      "outputs": []
    },
    {
      "cell_type": "code",
      "metadata": {
        "id": "UQ121oLk0iGu"
      },
      "source": [
        "#let's check out the losses\n",
        "loss_fn(y_train[:1],preds).numpy()"
      ],
      "execution_count": null,
      "outputs": []
    },
    {
      "cell_type": "code",
      "metadata": {
        "id": "8dsLBhho0tuk"
      },
      "source": [
        "model.compile(optimizer='adam',\n",
        "              loss=loss_fn,\n",
        "              metrics = ['accuracy'])"
      ],
      "execution_count": null,
      "outputs": []
    },
    {
      "cell_type": "code",
      "metadata": {
        "id": "1QVoPV0d1U00"
      },
      "source": [
        "model.fit(X_train,y_train,epochs=6)"
      ],
      "execution_count": null,
      "outputs": []
    },
    {
      "cell_type": "code",
      "metadata": {
        "id": "Nq-t3GKp1mh2"
      },
      "source": [
        "model.evaluate(X_test,y_test,verbose=2)"
      ],
      "execution_count": null,
      "outputs": []
    },
    {
      "cell_type": "code",
      "metadata": {
        "id": "HQ_EnCMd1-YH"
      },
      "source": [
        "proby = tf.keras.Sequential([\n",
        "                             model,\n",
        "                             tf.keras.layers.Softmax()\n",
        "])"
      ],
      "execution_count": null,
      "outputs": []
    },
    {
      "cell_type": "code",
      "metadata": {
        "id": "oqp0Q30s2pEh"
      },
      "source": [
        "proby(X_test[:3])"
      ],
      "execution_count": null,
      "outputs": []
    },
    {
      "cell_type": "code",
      "metadata": {
        "id": "gK4sCaiKYadi"
      },
      "source": [
        "import numpy as np"
      ],
      "execution_count": null,
      "outputs": []
    },
    {
      "cell_type": "code",
      "metadata": {
        "id": "tGP9OcZQ2xm3"
      },
      "source": [
        "xy = np.arange(1,9) \n",
        "xy"
      ],
      "execution_count": null,
      "outputs": []
    },
    {
      "cell_type": "code",
      "metadata": {
        "id": "AchDV5XvYkWQ"
      },
      "source": [
        "xy.mean()"
      ],
      "execution_count": null,
      "outputs": []
    },
    {
      "cell_type": "code",
      "metadata": {
        "id": "4SPrm0WnYn_g"
      },
      "source": [
        "np.median(xy)"
      ],
      "execution_count": null,
      "outputs": []
    },
    {
      "cell_type": "code",
      "metadata": {
        "id": "2WUszgEsYqcv"
      },
      "source": [
        "(xy*0.05).mean()"
      ],
      "execution_count": null,
      "outputs": []
    },
    {
      "cell_type": "code",
      "metadata": {
        "id": "nGHikdWfY6C8"
      },
      "source": [
        "4.5*0.05"
      ],
      "execution_count": null,
      "outputs": []
    },
    {
      "cell_type": "code",
      "metadata": {
        "id": "vim3QdMsY--S"
      },
      "source": [
        "np.median(xy*0.05)"
      ],
      "execution_count": null,
      "outputs": []
    },
    {
      "cell_type": "code",
      "metadata": {
        "id": "gsqMCnQWZGUT"
      },
      "source": [
        "xy.std()"
      ],
      "execution_count": null,
      "outputs": []
    },
    {
      "cell_type": "code",
      "metadata": {
        "id": "FFnvM5m7ZZHw"
      },
      "source": [
        "(xy*0.05).std()"
      ],
      "execution_count": null,
      "outputs": []
    },
    {
      "cell_type": "code",
      "metadata": {
        "id": "LRkINm8BZdv6"
      },
      "source": [
        "2.29128784747792*0.05"
      ],
      "execution_count": null,
      "outputs": []
    },
    {
      "cell_type": "code",
      "metadata": {
        "id": "f6GMf6QZZhFk"
      },
      "source": [
        "check1 = ['learn','quiz','practice','contribute']\n",
        "check2 = check1\n",
        "check3 = check1[:]\n",
        "\n",
        "check2[0] = 'code'\n",
        "check3[1] = 'mcq'\n",
        "\n",
        "count = 0\n",
        "for c in (check1,check2,check3):\n",
        "  if c[0] == 'code':\n",
        "    count += 1\n",
        "  if c[1] == 'mcq':\n",
        "    count += 10\n",
        "print(count)"
      ],
      "execution_count": null,
      "outputs": []
    },
    {
      "cell_type": "code",
      "metadata": {
        "id": "U7WDgKeVl0T6"
      },
      "source": [
        "check3,check2"
      ],
      "execution_count": null,
      "outputs": []
    },
    {
      "cell_type": "code",
      "metadata": {
        "id": "KGg_pWfzmEmt"
      },
      "source": [
        "check1"
      ],
      "execution_count": null,
      "outputs": []
    },
    {
      "cell_type": "code",
      "metadata": {
        "id": "6D96UtbEmJZ2"
      },
      "source": [
        ""
      ],
      "execution_count": null,
      "outputs": []
    }
  ]
}